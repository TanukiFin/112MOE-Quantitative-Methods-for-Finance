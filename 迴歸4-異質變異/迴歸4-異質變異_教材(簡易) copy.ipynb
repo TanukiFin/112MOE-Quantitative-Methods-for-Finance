{
 "cells": [
  {
   "cell_type": "code",
   "execution_count": 2,
   "metadata": {},
   "outputs": [],
   "source": [
    "import pandas as pd\n",
    "import numpy as np\n",
    "import statsmodels.api as sm\n",
    "from statsmodels.tools.validation import array_like\n",
    "from statsmodels.stats.diagnostic import het_breuschpagan\n",
    "from scipy import stats\n",
    "import matplotlib.pyplot as plt\n",
    "import warnings\n",
    "warnings.filterwarnings('ignore')\n",
    "\n",
    "pd.set_option(\"display.max_rows\", 20)\n",
    "pd.set_option(\"display.max_columns\", 10)\n",
    "pd.options.display.float_format = '{:.2f}'.format\n",
    "pd.options.display.float_format = '{:.4f}'.format\n",
    "\n",
    "# statsmodels.stats.diagnostic.het_white\n",
    "# Ref: https://www.statsmodels.org/stable/_modules/statsmodels/stats/diagnostic.html#het_white\n",
    "def het_white(resid, exog):\n",
    "    x = array_like(exog, \"exog\", ndim=2)\n",
    "    y = array_like(resid, \"resid\", ndim=2, shape=(x.shape[0], 1))\n",
    "    nobs, nvars0 = x.shape\n",
    "    i0, i1 = np.triu_indices(nvars0)\n",
    "    exog = x[:, i0] * x[:, i1]\n",
    "    nobs, nvars = exog.shape\n",
    "    assert nvars == nvars0 * (nvars0 - 1) / 2. + nvars0\n",
    "    resols = sm.OLS(y ** 2, exog).fit()\n",
    "    fval = resols.fvalue\n",
    "    fpval = resols.f_pvalue\n",
    "    lm = nobs * resols.rsquared\n",
    "    #assert resols.df_model == np.linalg.matrix_rank(exog) - 1 報錯\n",
    "    lmpval = stats.chi2.sf(lm, resols.df_model)\n",
    "    return lm, lmpval, fval, fpval"
   ]
  },
  {
   "cell_type": "markdown",
   "metadata": {},
   "source": [
    "# **1. 試驗一 沒有異質變異的樣本**\n",
    "\n",
    "利用Put資料，篩選出K=10,000、T介於0.4~0.6、r=0.795%、S介於12,500~13,500的樣本，完成模型一，並利用三種方法檢驗是否有異質變異。\n",
    "\n",
    "$$C, P = \\beta_{0} + \\beta_{1} \\space S  \n",
    " + \\beta_{2} \\space S^2 $$\n",
    "\n",
    "**檢驗異質變異方法**\n",
    "1. 畫殘差圖\n",
    "2. White Test\n",
    "3. Breusch-Pagan Test\n",
    "\n",
    "Ref: https://medium.com/@remycanario17/tests-for-heteroskedasticity-in-python-208a0fdb04ab"
   ]
  },
  {
   "cell_type": "code",
   "execution_count": 3,
   "metadata": {},
   "outputs": [
    {
     "name": "stdout",
     "output_type": "stream",
     "text": [
      "                            OLS Regression Results                            \n",
      "==============================================================================\n",
      "Dep. Variable:                    Put   R-squared:                       0.615\n",
      "Model:                            OLS   Adj. R-squared:                  0.597\n",
      "Method:                 Least Squares   F-statistic:                     35.08\n",
      "Date:                Tue, 05 Mar 2024   Prob (F-statistic):           7.79e-10\n",
      "Time:                        17:00:30   Log-Likelihood:                -209.67\n",
      "No. Observations:                  47   AIC:                             425.3\n",
      "Df Residuals:                      44   BIC:                             430.9\n",
      "Df Model:                           2                                         \n",
      "Covariance Type:            nonrobust                                         \n",
      "==============================================================================\n",
      "                 coef    std err          t      P>|t|      [0.025      0.975]\n",
      "------------------------------------------------------------------------------\n",
      "const       1.963e+04   1.25e+04      1.576      0.122   -5475.014    4.47e+04\n",
      "S             -2.8703      1.935     -1.483      0.145      -6.770       1.029\n",
      "S2             0.0001   7.51e-05      1.403      0.168    -4.6e-05       0.000\n",
      "==============================================================================\n",
      "Omnibus:                        4.811   Durbin-Watson:                   0.318\n",
      "Prob(Omnibus):                  0.090   Jarque-Bera (JB):                3.543\n",
      "Skew:                          -0.532   Prob(JB):                        0.170\n",
      "Kurtosis:                       2.176   Cond. No.                     6.46e+11\n",
      "==============================================================================\n",
      "\n",
      "Notes:\n",
      "[1] Standard Errors assume that the covariance matrix of the errors is correctly specified.\n",
      "[2] The condition number is large, 6.46e+11. This might indicate that there are\n",
      "strong multicollinearity or other numerical problems.\n"
     ]
    }
   ],
   "source": [
    "# 試驗一 \n",
    "# X:S S2, Y: Put\n",
    "dfput = pd.read_csv(\"TXOPut.csv\")\n",
    "filt1 = dfput.query(\"K==10000 & S>=12500 & S<=13500 & T > 0.4 & T < 0.6 & r == 0.00795\") \n",
    "\n",
    "col_list1 = [\"S\",\"S2\",]  \n",
    "model = sm.OLS(filt1[\"Put\"], sm.add_constant(filt1[col_list1])).fit()\n",
    "print(model.summary())"
   ]
  },
  {
   "cell_type": "code",
   "execution_count": 4,
   "metadata": {},
   "outputs": [
    {
     "data": {
      "image/png": "[encoded data removed]",
      "text/plain": [
       "<Figure size 400x300 with 1 Axes>"
      ]
     },
     "metadata": {},
     "output_type": "display_data"
    }
   ],
   "source": [
    "# 2D圖 x軸:S, y軸:Put\n",
    "x = np.linspace(filt1[\"S\"].min(), filt1[\"S\"].max(), 100)\n",
    "y = model.params[\"const\"] + model.params[\"S\"] * x  + model.params[\"S2\"] * x**2 \n",
    "\n",
    "plt.figure(figsize=(4,3))\n",
    "plt.scatter(filt1[\"S\"], filt1[\"Put\"], label=\"Data\", c='black', s=10, zorder=3)\n",
    "plt.plot(x, y, \"r\", label=f'Regression Line')\n",
    "plt.xlabel(\"S\")\n",
    "plt.ylabel(\"Put\")\n",
    "plt.legend()\n",
    "plt.show()"
   ]
  },
  {
   "cell_type": "markdown",
   "metadata": {},
   "source": [
    "## 1.1 S v.s. Residuals Plot\n",
    "繪製S與殘差的散佈圖"
   ]
  },
  {
   "cell_type": "code",
   "execution_count": 5,
   "metadata": {},
   "outputs": [
    {
     "data": {
      "image/png": "[encoded data removed]",
      "text/plain": [
       "<Figure size 400x300 with 1 Axes>"
      ]
     },
     "metadata": {},
     "output_type": "display_data"
    }
   ],
   "source": [
    "# 1.1. S v.s. Residuals Plot\n",
    "residuals = model.resid\n",
    "plt.figure(figsize=(4,3))\n",
    "plt.scatter(filt1[\"S\"], residuals, s=8)\n",
    "plt.xlabel(\"S\")\n",
    "plt.ylabel(\"Residuals\")\n",
    "plt.title(\"Test1: S v.s. Residuals\")\n",
    "plt.show()"
   ]
  },
  {
   "cell_type": "markdown",
   "metadata": {},
   "source": [
    "## 1.2 White Test"
   ]
  },
  {
   "cell_type": "code",
   "execution_count": 6,
   "metadata": {},
   "outputs": [
    {
     "name": "stdout",
     "output_type": "stream",
     "text": [
      "p-value:  0.4803118378473743\n",
      "不存在異質變異\n"
     ]
    }
   ],
   "source": [
    "_, p_value, _, _ = het_white(model.resid, model.model.exog)\n",
    "print(\"p-value: \", p_value)\n",
    "if p_value < 0.05:\n",
    "    print(\"存在異質變異\")\n",
    "else:\n",
    "    print(\"不存在異質變異\")"
   ]
  },
  {
   "cell_type": "markdown",
   "metadata": {},
   "source": [
    "## 1.3 Breusch-Pagan Test"
   ]
  },
  {
   "cell_type": "code",
   "execution_count": 7,
   "metadata": {},
   "outputs": [
    {
     "name": "stdout",
     "output_type": "stream",
     "text": [
      "p-value:  0.4916539162879897\n",
      "不存在異質變異\n"
     ]
    }
   ],
   "source": [
    "_, p_value, _, _ = het_breuschpagan(model.resid, model.model.exog)\n",
    "print(\"p-value: \", p_value)\n",
    "if p_value < 0.05:\n",
    "    print(\"存在異質變異\")\n",
    "else:\n",
    "    print(\"不存在異質變異\")"
   ]
  },
  {
   "cell_type": "markdown",
   "metadata": {},
   "source": [
    "# **2. 試驗二 有異質變異的樣本**\n",
    "## 2.1 model1 - X: S、S2\n",
    "\n",
    "利用Put資料，篩選出K=10,000、T介於0.4~0.7、r=0.795%、S介於12,500~14,000的樣本，完成模型一和二，並利用三種方法分別檢驗兩個模型是否有異質變異。\n",
    "\n",
    "結果是否相同，若無，為什麼?\n",
    "\n",
    "$$\n",
    "\\begin{align}\n",
    "   model \\space 1: C, P &= \\beta_{0} + \\beta_{1} S + \\beta_{2} S^2  \\\\\n",
    "   model \\space 2: C, P &= \\beta_{0} + \\beta_{1} S + \\beta_{2} S^2 + \\beta_{3} T \n",
    "\\end{align} \n",
    "$$"
   ]
  },
  {
   "cell_type": "code",
   "execution_count": null,
   "metadata": {},
   "outputs": [],
   "source": [
    "# 試驗二 - model 1 \n",
    "# X:S S2, Y: Put\n",
    "\n",
    "dfput = pd.read_csv(\"TXOPut.csv\")\n",
    "filt2 = dfput.query(\"K==10000 & S>=12500 & S<=14000 & T > 0.4 & T < 0.7 & r == 0.00795\") \n"
   ]
  },
  {
   "cell_type": "code",
   "execution_count": 9,
   "metadata": {},
   "outputs": [],
   "source": [
    "# 三種方法檢驗\n"
   ]
  },
  {
   "cell_type": "markdown",
   "metadata": {},
   "source": [
    "## 2.2 model2 - X: S、S2、T\n",
    "與前面2.1一模一樣的樣本，但X多了T進去model"
   ]
  },
  {
   "cell_type": "code",
   "execution_count": null,
   "metadata": {},
   "outputs": [],
   "source": [
    "# 試驗二 - model 2 \n",
    "# X:S S2 T, Y: Put\n",
    "\n"
   ]
  },
  {
   "cell_type": "code",
   "execution_count": 11,
   "metadata": {},
   "outputs": [],
   "source": [
    "# 三種方法檢驗\n"
   ]
  }
 ],
 "metadata": {
  "kernelspec": {
   "display_name": "Python 3",
   "language": "python",
   "name": "python3"
  },
  "language_info": {
   "codemirror_mode": {
    "name": "ipython",
    "version": 3
   },
   "file_extension": ".py",
   "mimetype": "text/x-python",
   "name": "python",
   "nbconvert_exporter": "python",
   "pygments_lexer": "ipython3",
   "version": "3.9.16"
  },
  "orig_nbformat": 4
 },
 "nbformat": 4,
 "nbformat_minor": 2
}
