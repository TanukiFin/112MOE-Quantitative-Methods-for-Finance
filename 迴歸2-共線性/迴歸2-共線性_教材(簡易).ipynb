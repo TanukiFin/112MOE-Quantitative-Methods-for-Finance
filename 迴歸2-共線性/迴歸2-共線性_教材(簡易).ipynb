{
 "cells": [
  {
   "cell_type": "code",
   "execution_count": 1,
   "metadata": {},
   "outputs": [],
   "source": [
    "import pandas as pd\n",
    "import numpy as np\n",
    "import statsmodels.api as sm\n",
    "import matplotlib.pyplot as plt\n",
    "import seaborn as sns\n",
    "import warnings\n",
    "warnings.filterwarnings('ignore')\n",
    "pd.set_option(\"display.max_rows\", 15)\n",
    "pd.set_option(\"display.max_columns\", 10)\n",
    "pd.options.display.float_format = '{:.2f}'.format\n",
    "pd.options.display.float_format = '{:.4f}'.format"
   ]
  },
  {
   "cell_type": "code",
   "execution_count": 2,
   "metadata": {},
   "outputs": [
    {
     "data": {
      "text/html": [
       "<div>\n",
       "<style scoped>\n",
       "    .dataframe tbody tr th:only-of-type {\n",
       "        vertical-align: middle;\n",
       "    }\n",
       "\n",
       "    .dataframe tbody tr th {\n",
       "        vertical-align: top;\n",
       "    }\n",
       "\n",
       "    .dataframe thead th {\n",
       "        text-align: right;\n",
       "    }\n",
       "</style>\n",
       "<table border=\"1\" class=\"dataframe\">\n",
       "  <thead>\n",
       "    <tr style=\"text-align: right;\">\n",
       "      <th></th>\n",
       "      <th>S</th>\n",
       "      <th>K</th>\n",
       "      <th>r</th>\n",
       "      <th>q</th>\n",
       "      <th>sigma</th>\n",
       "      <th>T</th>\n",
       "      <th>Call</th>\n",
       "      <th>Put</th>\n",
       "      <th>Forward</th>\n",
       "      <th>S2</th>\n",
       "    </tr>\n",
       "  </thead>\n",
       "  <tbody>\n",
       "    <tr>\n",
       "      <th>0</th>\n",
       "      <td>20</td>\n",
       "      <td>80</td>\n",
       "      <td>0.0000</td>\n",
       "      <td>0.0500</td>\n",
       "      <td>0.1000</td>\n",
       "      <td>0.0000</td>\n",
       "      <td>0.0000</td>\n",
       "      <td>60.0000</td>\n",
       "      <td>20.0000</td>\n",
       "      <td>400</td>\n",
       "    </tr>\n",
       "    <tr>\n",
       "      <th>1</th>\n",
       "      <td>20</td>\n",
       "      <td>80</td>\n",
       "      <td>0.0000</td>\n",
       "      <td>0.0500</td>\n",
       "      <td>0.1000</td>\n",
       "      <td>0.1000</td>\n",
       "      <td>0.0000</td>\n",
       "      <td>60.0998</td>\n",
       "      <td>19.9002</td>\n",
       "      <td>400</td>\n",
       "    </tr>\n",
       "    <tr>\n",
       "      <th>2</th>\n",
       "      <td>20</td>\n",
       "      <td>80</td>\n",
       "      <td>0.0000</td>\n",
       "      <td>0.0500</td>\n",
       "      <td>0.1000</td>\n",
       "      <td>0.2000</td>\n",
       "      <td>0.0000</td>\n",
       "      <td>60.1990</td>\n",
       "      <td>19.8010</td>\n",
       "      <td>400</td>\n",
       "    </tr>\n",
       "  </tbody>\n",
       "</table>\n",
       "</div>"
      ],
      "text/plain": [
       "    S   K      r      q  sigma      T   Call     Put  Forward   S2\n",
       "0  20  80 0.0000 0.0500 0.1000 0.0000 0.0000 60.0000  20.0000  400\n",
       "1  20  80 0.0000 0.0500 0.1000 0.1000 0.0000 60.0998  19.9002  400\n",
       "2  20  80 0.0000 0.0500 0.1000 0.2000 0.0000 60.1990  19.8010  400"
      ]
     },
     "execution_count": 2,
     "metadata": {},
     "output_type": "execute_result"
    }
   ],
   "source": [
    "# 讀取資料\n",
    "df1 = pd.read_csv(\"data1.csv\")\n",
    "df2 = pd.read_csv(\"data2.csv\")\n",
    "df1[\"S2\"] = df1[\"S\"]**2\n",
    "df2[\"S2\"] = df2[\"S\"]**2\n",
    "df1.head(3)"
   ]
  },
  {
   "cell_type": "code",
   "execution_count": 3,
   "metadata": {},
   "outputs": [],
   "source": [
    "def print_range(df):\n",
    "    print(\"S:\", df[\"S\"].min(), df[\"S\"].max())\n",
    "    print(\"K:\", df[\"K\"].min(), df[\"K\"].max())\n",
    "    print(\"T:\", df[\"T\"].min(), df[\"T\"].max())\n",
    "    print(\"r:\", df[\"r\"].min(), df[\"r\"].max())\n",
    "    print(\"sigma:\", df[\"sigma\"].min(), df[\"sigma\"].max())"
   ]
  },
  {
   "cell_type": "markdown",
   "metadata": {},
   "source": [
    "# **1. 試驗一 是否要加入Forward**\n",
    "\n",
    "a. 利用data1.csv，完成以下兩個模型，觀察所有係數的p值、t統計量，並計算Forward的VIF。範例使用Call，**作業請利用Put完成。**\n",
    "\n",
    "b. 你認為哪個模型較佳? 為什麼?\n",
    "\n",
    "$$\n",
    "\\begin{align}\n",
    "model \\space 1: \\space C, P  &= \\beta_{0} + \\beta_{1} \\space S  \n",
    " + \\beta_{2} \\space K\n",
    " + \\beta_{3} \\space T\n",
    " + \\beta_{4} \\space sigma\n",
    " + \\beta_{5} \\space r \\\\\n",
    " \n",
    " model \\space 2: \\space C, P  &= \\beta_{0} + \\beta_{1} \\space S  \n",
    " + \\beta_{2} \\space K\n",
    " + \\beta_{3} \\space T\n",
    " + \\beta_{4} \\space sigma\n",
    " + \\beta_{5} \\space r\n",
    " + \\beta_{6} \\space Forward \n",
    "\n",
    " \\end{align} \n",
    " $$\n"
   ]
  },
  {
   "cell_type": "code",
   "execution_count": 4,
   "metadata": {},
   "outputs": [
    {
     "name": "stdout",
     "output_type": "stream",
     "text": [
      "S: 20 180\n",
      "K: 80 120\n",
      "T: 0.0 2.0\n",
      "r: 0.0 0.1\n",
      "sigma: 0.1 0.5\n",
      "                            OLS Regression Results                            \n",
      "==============================================================================\n",
      "Dep. Variable:                   Call   R-squared:                       0.848\n",
      "Model:                            OLS   Adj. R-squared:                  0.848\n",
      "Method:                 Least Squares   F-statistic:                 8.765e+05\n",
      "Date:                Thu, 29 Feb 2024   Prob (F-statistic):               0.00\n",
      "Time:                        03:26:23   Log-Likelihood:            -2.9442e+06\n",
      "No. Observations:              785862   AIC:                         5.888e+06\n",
      "Df Residuals:                  785856   BIC:                         5.889e+06\n",
      "Df Model:                           5                                         \n",
      "Covariance Type:            nonrobust                                         \n",
      "==============================================================================\n",
      "                 coef    std err          t      P>|t|      [0.025      0.975]\n",
      "------------------------------------------------------------------------------\n",
      "const          8.2836      0.101     81.931      0.000       8.085       8.482\n",
      "S              0.4920      0.000   2025.375      0.000       0.492       0.492\n",
      "K             -0.4298      0.001   -479.731      0.000      -0.432      -0.428\n",
      "T              1.7123      0.019     89.648      0.000       1.675       1.750\n",
      "sigma         16.0074      0.096    167.614      0.000      15.820      16.195\n",
      "r             39.9713      0.339    118.045      0.000      39.308      40.635\n",
      "==============================================================================\n",
      "Omnibus:                    45195.750   Durbin-Watson:                   0.027\n",
      "Prob(Omnibus):                  0.000   Jarque-Bera (JB):            35899.295\n",
      "Skew:                           0.438   Prob(JB):                         0.00\n",
      "Kurtosis:                       2.428   Cond. No.                     4.28e+03\n",
      "==============================================================================\n",
      "\n",
      "Notes:\n",
      "[1] Standard Errors assume that the covariance matrix of the errors is correctly specified.\n",
      "[2] The condition number is large, 4.28e+03. This might indicate that there are\n",
      "strong multicollinearity or other numerical problems.\n"
     ]
    }
   ],
   "source": [
    "test1 = df1[:]\n",
    "print_range(test1)\n",
    "\n",
    "# 試驗一 - model 1\n",
    "model1 = sm.OLS(test1[\"Call\"], sm.add_constant( test1[[\"S\",\"K\",\"T\",\"sigma\",\"r\"]] )).fit()\n",
    "print(model1.summary())"
   ]
  },
  {
   "cell_type": "code",
   "execution_count": 5,
   "metadata": {},
   "outputs": [
    {
     "name": "stdout",
     "output_type": "stream",
     "text": [
      "                            OLS Regression Results                            \n",
      "==============================================================================\n",
      "Dep. Variable:                   Call   R-squared:                       0.851\n",
      "Model:                            OLS   Adj. R-squared:                  0.851\n",
      "Method:                 Least Squares   F-statistic:                 7.462e+05\n",
      "Date:                Thu, 29 Feb 2024   Prob (F-statistic):               0.00\n",
      "Time:                        03:26:24   Log-Likelihood:            -2.9371e+06\n",
      "No. Observations:              785862   AIC:                         5.874e+06\n",
      "Df Residuals:                  785855   BIC:                         5.874e+06\n",
      "Df Model:                           6                                         \n",
      "Covariance Type:            nonrobust                                         \n",
      "==============================================================================\n",
      "                 coef    std err          t      P>|t|      [0.025      0.975]\n",
      "------------------------------------------------------------------------------\n",
      "const         10.7869      0.102    105.405      0.000      10.586      10.987\n",
      "S              0.0027      0.004      0.670      0.503      -0.005       0.011\n",
      "K             -0.4298      0.001   -484.109      0.000      -0.432      -0.428\n",
      "T              1.6552      0.019     87.423      0.000       1.618       1.692\n",
      "sigma         16.0074      0.095    169.144      0.000      15.822      16.193\n",
      "r             -8.9532      0.528    -16.960      0.000      -9.988      -7.919\n",
      "Forward        0.4889      0.004    120.052      0.000       0.481       0.497\n",
      "==============================================================================\n",
      "Omnibus:                    45767.506   Durbin-Watson:                   0.023\n",
      "Prob(Omnibus):                  0.000   Jarque-Bera (JB):            35885.156\n",
      "Skew:                           0.436   Prob(JB):                         0.00\n",
      "Kurtosis:                       2.421   Cond. No.                     8.41e+03\n",
      "==============================================================================\n",
      "\n",
      "Notes:\n",
      "[1] Standard Errors assume that the covariance matrix of the errors is correctly specified.\n",
      "[2] The condition number is large, 8.41e+03. This might indicate that there are\n",
      "strong multicollinearity or other numerical problems.\n"
     ]
    }
   ],
   "source": [
    "# 試驗一 - model 2\n",
    "model2 = sm.OLS(test1[\"Call\"], sm.add_constant( test1[[\"S\",\"K\",\"T\",\"sigma\",\"r\",\"Forward\"]] )).fit()\n",
    "summary = model2.summary()\n",
    "print(summary)"
   ]
  },
  {
   "cell_type": "markdown",
   "metadata": {},
   "source": [
    "$$ VIF = \\frac{1}{1-R^2}$$"
   ]
  },
  {
   "cell_type": "code",
   "execution_count": 6,
   "metadata": {},
   "outputs": [
    {
     "name": "stdout",
     "output_type": "stream",
     "text": [
      "* Forward VIF: 289.1046565315515\n",
      "                            OLS Regression Results                            \n",
      "==============================================================================\n",
      "Dep. Variable:                Forward   R-squared:                       0.997\n",
      "Model:                            OLS   Adj. R-squared:                  0.997\n",
      "Method:                 Least Squares   F-statistic:                 4.528e+07\n",
      "Date:                Thu, 29 Feb 2024   Prob (F-statistic):               0.00\n",
      "Time:                        03:26:24   Log-Likelihood:            -1.9282e+06\n",
      "No. Observations:              785862   AIC:                         3.857e+06\n",
      "Df Residuals:                  785856   BIC:                         3.857e+06\n",
      "Df Model:                           5                                         \n",
      "Covariance Type:            nonrobust                                         \n",
      "==============================================================================\n",
      "                 coef    std err          t      P>|t|      [0.025      0.975]\n",
      "------------------------------------------------------------------------------\n",
      "const         -5.1203      0.028   -184.495      0.000      -5.175      -5.066\n",
      "S              1.0008   6.67e-05    1.5e+04      0.000       1.001       1.001\n",
      "K           2.839e-14      0.000   1.15e-10      1.000      -0.000       0.000\n",
      "T              0.1167      0.005     22.265      0.000       0.106       0.127\n",
      "sigma       1.227e-14      0.026   4.68e-13      1.000      -0.051       0.051\n",
      "r            100.0707      0.093   1076.643      0.000      99.889     100.253\n",
      "==============================================================================\n",
      "Omnibus:                    46341.908   Durbin-Watson:                   0.357\n",
      "Prob(Omnibus):                  0.000   Jarque-Bera (JB):           176148.659\n",
      "Skew:                           0.181   Prob(JB):                         0.00\n",
      "Kurtosis:                       5.291   Cond. No.                     4.28e+03\n",
      "==============================================================================\n",
      "\n",
      "Notes:\n",
      "[1] Standard Errors assume that the covariance matrix of the errors is correctly specified.\n",
      "[2] The condition number is large, 4.28e+03. This might indicate that there are\n",
      "strong multicollinearity or other numerical problems.\n"
     ]
    }
   ],
   "source": [
    "# 計算VIF\n",
    "# Y: Forward\n",
    "# X: S, K, T, sigma, r\n",
    "modelvif = sm.OLS(test1[\"Forward\"], sm.add_constant( test1[[\"S\",\"K\",\"T\",\"sigma\",\"r\"]] )).fit()\n",
    "summary = modelvif.summary()\n",
    "print(\"* Forward VIF:\", 1/(1-modelvif.rsquared))\n",
    "print(summary)"
   ]
  },
  {
   "cell_type": "markdown",
   "metadata": {},
   "source": [
    "# **2. 試驗二 是否要加入S^2**\n",
    "\n",
    "* 2.1 S 範圍窄\n",
    "* 2.2 S 範圍廣\n"
   ]
  },
  {
   "cell_type": "markdown",
   "metadata": {},
   "source": [
    "## 2.1 S範圍窄\n",
    "\n",
    "a. 利用data2.csv，該資料集S介於100~102，完成以下兩個模型，觀察所有係數的p值、t統計量，並計算S^2的VIF。範例使用Call，**作業請利用Put完成。**\n",
    "\n",
    "b. 觀察S的beta係數，在加入S2前後有什麼變化，數值是否合理? 為什麼?\n",
    "\n",
    "c. 你認為哪個模型較佳? 為什麼?\n",
    "\n",
    "\n",
    "$$\n",
    "\\begin{align}\n",
    "model \\space 1: \\space C, P  &= \\beta_{0} + \\beta_{1} \\space S  \n",
    " + \\beta_{2} \\space K\n",
    " + \\beta_{3} \\space T\n",
    " + \\beta_{4} \\space sigma\n",
    " + \\beta_{5} \\space r \\\\\n",
    " \n",
    " model \\space 2: \\space C, P  &= \\beta_{0} + \\beta_{1} \\space S  \n",
    " + \\beta_{2} \\space K\n",
    " + \\beta_{3} \\space T\n",
    " + \\beta_{4} \\space sigma\n",
    " + \\beta_{5} \\space r\n",
    " + \\beta_{6} \\space S^2 \n",
    "\n",
    " \\end{align} \n",
    "$$\n"
   ]
  },
  {
   "cell_type": "code",
   "execution_count": 7,
   "metadata": {},
   "outputs": [
    {
     "name": "stdout",
     "output_type": "stream",
     "text": [
      "(261954, 10)\n",
      "S: 100.0 102.0\n",
      "K: 80 120\n",
      "T: 0.0 2.0\n",
      "r: 0.0 0.1\n",
      "sigma: 0.1 0.5\n",
      "                            OLS Regression Results                            \n",
      "==============================================================================\n",
      "Dep. Variable:                   Call   R-squared:                       0.903\n",
      "Model:                            OLS   Adj. R-squared:                  0.903\n",
      "Method:                 Least Squares   F-statistic:                 4.877e+05\n",
      "Date:                Thu, 29 Feb 2024   Prob (F-statistic):               0.00\n",
      "Time:                        03:26:24   Log-Likelihood:            -6.1035e+05\n",
      "No. Observations:              261954   AIC:                         1.221e+06\n",
      "Df Residuals:                  261948   BIC:                         1.221e+06\n",
      "Df Model:                           5                                         \n",
      "Covariance Type:            nonrobust                                         \n",
      "==============================================================================\n",
      "                 coef    std err          t      P>|t|      [0.025      0.975]\n",
      "------------------------------------------------------------------------------\n",
      "const        -13.8050      0.777    -17.765      0.000     -15.328     -12.282\n",
      "S              0.5452      0.008     70.967      0.000       0.530       0.560\n",
      "K             -0.4471      0.000  -1187.852      0.000      -0.448      -0.446\n",
      "T              4.9587      0.008    617.932      0.000       4.943       4.974\n",
      "sigma         29.9988      0.040    747.661      0.000      29.920      30.077\n",
      "r             40.6616      0.142    285.820      0.000      40.383      40.940\n",
      "==============================================================================\n",
      "Omnibus:                    16687.894   Durbin-Watson:                   0.387\n",
      "Prob(Omnibus):                  0.000   Jarque-Bera (JB):            62743.901\n",
      "Skew:                          -0.230   Prob(JB):                         0.00\n",
      "Kurtosis:                       5.353   Cond. No.                     2.28e+04\n",
      "==============================================================================\n",
      "\n",
      "Notes:\n",
      "[1] Standard Errors assume that the covariance matrix of the errors is correctly specified.\n",
      "[2] The condition number is large, 2.28e+04. This might indicate that there are\n",
      "strong multicollinearity or other numerical problems.\n"
     ]
    }
   ],
   "source": [
    "# 試驗二 - model 1\n",
    "test2 = df2[:]\n",
    "print(test2.shape)\n",
    "print_range(test2)\n",
    "model1 = sm.OLS(test2[\"Call\"], sm.add_constant( test2[[\"S\",\"K\",\"T\",\"sigma\",\"r\"]] )).fit()\n",
    "summary = model1.summary()\n",
    "print(summary)"
   ]
  },
  {
   "cell_type": "code",
   "execution_count": 8,
   "metadata": {},
   "outputs": [
    {
     "name": "stdout",
     "output_type": "stream",
     "text": [
      "                            OLS Regression Results                            \n",
      "==============================================================================\n",
      "Dep. Variable:                   Call   R-squared:                       0.903\n",
      "Model:                            OLS   Adj. R-squared:                  0.903\n",
      "Method:                 Least Squares   F-statistic:                 4.064e+05\n",
      "Date:                Thu, 29 Feb 2024   Prob (F-statistic):               0.00\n",
      "Time:                        03:26:24   Log-Likelihood:            -6.1035e+05\n",
      "No. Observations:              261954   AIC:                         1.221e+06\n",
      "Df Residuals:                  261947   BIC:                         1.221e+06\n",
      "Df Model:                           6                                         \n",
      "Covariance Type:            nonrobust                                         \n",
      "==============================================================================\n",
      "                 coef    std err          t      P>|t|      [0.025      0.975]\n",
      "------------------------------------------------------------------------------\n",
      "const         48.8164    140.311      0.348      0.728    -226.189     323.822\n",
      "S             -0.6948      2.779     -0.250      0.803      -6.141       4.751\n",
      "K             -0.4471      0.000  -1187.850      0.000      -0.448      -0.446\n",
      "T              4.9587      0.008    617.932      0.000       4.943       4.974\n",
      "sigma         29.9988      0.040    747.659      0.000      29.920      30.077\n",
      "r             40.6616      0.142    285.820      0.000      40.383      40.940\n",
      "S2             0.0061      0.014      0.446      0.655      -0.021       0.033\n",
      "==============================================================================\n",
      "Omnibus:                    16688.016   Durbin-Watson:                   0.387\n",
      "Prob(Omnibus):                  0.000   Jarque-Bera (JB):            62743.882\n",
      "Skew:                          -0.230   Prob(JB):                         0.00\n",
      "Kurtosis:                       5.353   Cond. No.                     2.95e+08\n",
      "==============================================================================\n",
      "\n",
      "Notes:\n",
      "[1] Standard Errors assume that the covariance matrix of the errors is correctly specified.\n",
      "[2] The condition number is large, 2.95e+08. This might indicate that there are\n",
      "strong multicollinearity or other numerical problems.\n"
     ]
    }
   ],
   "source": [
    "# 試驗二 - model 2 加入S2\n",
    "model2 = sm.OLS(test2[\"Call\"], sm.add_constant( test2[[\"S\",\"K\",\"T\",\"sigma\",\"r\",\"S2\"]] )).fit()\n",
    "summary = model2.summary()\n",
    "print(summary)"
   ]
  },
  {
   "cell_type": "code",
   "execution_count": 9,
   "metadata": {},
   "outputs": [
    {
     "name": "stdout",
     "output_type": "stream",
     "text": [
      "VIF: 130783.05128155186\n",
      "                            OLS Regression Results                            \n",
      "==============================================================================\n",
      "Dep. Variable:                     S2   R-squared:                       1.000\n",
      "Model:                            OLS   Adj. R-squared:                  1.000\n",
      "Method:                 Least Squares   F-statistic:                 6.852e+09\n",
      "Date:                Thu, 29 Feb 2024   Prob (F-statistic):               0.00\n",
      "Time:                        03:26:24   Log-Likelihood:                -99128.\n",
      "No. Observations:              261954   AIC:                         1.983e+05\n",
      "Df Residuals:                  261948   BIC:                         1.983e+05\n",
      "Df Model:                           5                                         \n",
      "Covariance Type:            nonrobust                                         \n",
      "==============================================================================\n",
      "                 coef    std err          t      P>|t|      [0.025      0.975]\n",
      "------------------------------------------------------------------------------\n",
      "const       -1.02e+04      0.110  -9.24e+04      0.000   -1.02e+04   -1.02e+04\n",
      "S            202.0000      0.001   1.85e+05      0.000     201.998     202.002\n",
      "K          -1.542e-11   5.35e-05  -2.88e-07      1.000      -0.000       0.000\n",
      "T           2.584e-12      0.001   2.27e-09      1.000      -0.002       0.002\n",
      "sigma       2.053e-12      0.006    3.6e-10      1.000      -0.011       0.011\n",
      "r           1.722e-11      0.020   8.52e-10      1.000      -0.040       0.040\n",
      "==============================================================================\n",
      "Omnibus:                    98842.898   Durbin-Watson:                   0.000\n",
      "Prob(Omnibus):                  0.000   Jarque-Bera (JB):            26352.196\n",
      "Skew:                           0.566   Prob(JB):                         0.00\n",
      "Kurtosis:                       1.936   Cond. No.                     2.28e+04\n",
      "==============================================================================\n",
      "\n",
      "Notes:\n",
      "[1] Standard Errors assume that the covariance matrix of the errors is correctly specified.\n",
      "[2] The condition number is large, 2.28e+04. This might indicate that there are\n",
      "strong multicollinearity or other numerical problems.\n"
     ]
    }
   ],
   "source": [
    "# 計算VIF\n",
    "# Y: Forward\n",
    "# X: S、K、T、sigma\n",
    "modelvif = sm.OLS(test2[\"S2\"], sm.add_constant( test2[[\"S\",\"K\",\"T\",\"sigma\",\"r\"]] )).fit()\n",
    "summary = modelvif.summary()\n",
    "print(\"VIF:\", 1/(1-modelvif.rsquared))\n",
    "print(summary)"
   ]
  },
  {
   "cell_type": "markdown",
   "metadata": {},
   "source": [
    "## 2.2 S範圍廣\n",
    "\n",
    "a. 利用 data1.csv，再做一次，Y使用Put完成以下兩個模型，觀察所有係數的p值、t統計量，並計算S^2的VIF。\n",
    "\n",
    "b. 你認為哪個模型較佳? 為什麼?\n",
    "\n",
    "\n",
    "\n",
    "$$\n",
    "\\begin{align}\n",
    "model \\space 1: \\space C, P  &= \\beta_{0} + \\beta_{1} \\space S  \n",
    " + \\beta_{2} \\space K\n",
    " + \\beta_{3} \\space T\n",
    " + \\beta_{4} \\space sigma\n",
    " + \\beta_{5} \\space r \\\\\n",
    " \n",
    " model \\space 2: \\space C, P  &= \\beta_{0} + \\beta_{1} \\space S  \n",
    " + \\beta_{2} \\space K\n",
    " + \\beta_{3} \\space T\n",
    " + \\beta_{4} \\space sigma\n",
    " + \\beta_{5} \\space r\n",
    " + \\beta_{6} \\space S^2 \n",
    "\n",
    " \\end{align} \n",
    "$$\n"
   ]
  },
  {
   "cell_type": "code",
   "execution_count": 10,
   "metadata": {},
   "outputs": [
    {
     "name": "stdout",
     "output_type": "stream",
     "text": [
      "(785862, 10)\n",
      "S: 20 180\n",
      "K: 80 120\n",
      "T: 0.0 2.0\n",
      "r: 0.0 0.1\n",
      "sigma: 0.1 0.5\n"
     ]
    }
   ],
   "source": [
    "# 試驗二 - model 1\n",
    "test2 = df1[:]\n",
    "print(test2.shape)\n",
    "print_range(test2)"
   ]
  },
  {
   "cell_type": "code",
   "execution_count": 11,
   "metadata": {},
   "outputs": [],
   "source": [
    "# 試驗二 - model 2 加入S2\n"
   ]
  },
  {
   "cell_type": "code",
   "execution_count": 12,
   "metadata": {},
   "outputs": [],
   "source": [
    "# 計算VIF\n"
   ]
  },
  {
   "cell_type": "markdown",
   "metadata": {},
   "source": [
    "# **3. 試驗三 TXO sigma選擇**\n",
    "\n",
    "利用**TXO Put**資料，篩選樣本固定K=11000、T>= 0.1，完成以下七種模型(三種波動率組合放進去X)，計算全部X的VIF，綜合考量VIF、共線性、R2，你認為哪個模型較佳?\n",
    "\n",
    "<img src=\"試驗三.png\">"
   ]
  },
  {
   "cell_type": "markdown",
   "metadata": {},
   "source": [
    "## Put"
   ]
  },
  {
   "cell_type": "code",
   "execution_count": 14,
   "metadata": {},
   "outputs": [
    {
     "name": "stdout",
     "output_type": "stream",
     "text": [
      "(997, 11)\n"
     ]
    },
    {
     "data": {
      "text/html": [
       "<div>\n",
       "<style scoped>\n",
       "    .dataframe tbody tr th:only-of-type {\n",
       "        vertical-align: middle;\n",
       "    }\n",
       "\n",
       "    .dataframe tbody tr th {\n",
       "        vertical-align: top;\n",
       "    }\n",
       "\n",
       "    .dataframe thead th {\n",
       "        text-align: right;\n",
       "    }\n",
       "</style>\n",
       "<table border=\"1\" class=\"dataframe\">\n",
       "  <thead>\n",
       "    <tr style=\"text-align: right;\">\n",
       "      <th></th>\n",
       "      <th>Put</th>\n",
       "      <th>S</th>\n",
       "      <th>HV</th>\n",
       "      <th>IV</th>\n",
       "      <th>T</th>\n",
       "      <th>...</th>\n",
       "      <th>K</th>\n",
       "      <th>Type</th>\n",
       "      <th>Date</th>\n",
       "      <th>TVIX</th>\n",
       "      <th>S2</th>\n",
       "    </tr>\n",
       "  </thead>\n",
       "  <tbody>\n",
       "    <tr>\n",
       "      <th>69</th>\n",
       "      <td>18.0000</td>\n",
       "      <td>12100.4800</td>\n",
       "      <td>0.1079</td>\n",
       "      <td>0.1670</td>\n",
       "      <td>0.1342</td>\n",
       "      <td>...</td>\n",
       "      <td>11000.0000</td>\n",
       "      <td>P</td>\n",
       "      <td>2020-01-02</td>\n",
       "      <td>0.1432</td>\n",
       "      <td>146421616.2304</td>\n",
       "    </tr>\n",
       "    <tr>\n",
       "      <th>70</th>\n",
       "      <td>42.0000</td>\n",
       "      <td>12100.4800</td>\n",
       "      <td>0.1079</td>\n",
       "      <td>0.1637</td>\n",
       "      <td>0.2110</td>\n",
       "      <td>...</td>\n",
       "      <td>11000.0000</td>\n",
       "      <td>P</td>\n",
       "      <td>2020-01-02</td>\n",
       "      <td>0.1432</td>\n",
       "      <td>146421616.2304</td>\n",
       "    </tr>\n",
       "  </tbody>\n",
       "</table>\n",
       "<p>2 rows × 11 columns</p>\n",
       "</div>"
      ],
      "text/plain": [
       "       Put          S     HV     IV      T  ...          K  Type       Date  \\\n",
       "69 18.0000 12100.4800 0.1079 0.1670 0.1342  ... 11000.0000     P 2020-01-02   \n",
       "70 42.0000 12100.4800 0.1079 0.1637 0.2110  ... 11000.0000     P 2020-01-02   \n",
       "\n",
       "     TVIX             S2  \n",
       "69 0.1432 146421616.2304  \n",
       "70 0.1432 146421616.2304  \n",
       "\n",
       "[2 rows x 11 columns]"
      ]
     },
     "execution_count": 14,
     "metadata": {},
     "output_type": "execute_result"
    }
   ],
   "source": [
    "# 篩選特定類型的 TXO Put\n",
    "TXO = pd.read_csv(\"TXOPut.csv\")\n",
    "TXO[\"Date\"] = pd.to_datetime(TXO[\"Date\"])\n",
    "filt = TXO.query(\"K==11000 & T >= 0.1\")\n",
    "print(filt.shape)\n",
    "filt.head(2)"
   ]
  },
  {
   "cell_type": "code",
   "execution_count": null,
   "metadata": {},
   "outputs": [],
   "source": []
  }
 ],
 "metadata": {
  "kernelspec": {
   "display_name": "Python 3",
   "language": "python",
   "name": "python3"
  },
  "language_info": {
   "codemirror_mode": {
    "name": "ipython",
    "version": 3
   },
   "file_extension": ".py",
   "mimetype": "text/x-python",
   "name": "python",
   "nbconvert_exporter": "python",
   "pygments_lexer": "ipython3",
   "version": "3.9.16"
  },
  "orig_nbformat": 4
 },
 "nbformat": 4,
 "nbformat_minor": 2
}
