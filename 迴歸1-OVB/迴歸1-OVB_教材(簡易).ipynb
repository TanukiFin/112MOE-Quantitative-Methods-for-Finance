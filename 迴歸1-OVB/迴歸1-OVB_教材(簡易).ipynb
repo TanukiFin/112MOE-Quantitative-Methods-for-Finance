{
 "cells": [
  {
   "cell_type": "code",
   "execution_count": 5,
   "metadata": {},
   "outputs": [],
   "source": [
    "import pandas as pd\n",
    "import numpy as np\n",
    "import statsmodels.api as sm\n",
    "import matplotlib.pyplot as plt\n",
    "import warnings\n",
    "warnings.filterwarnings('ignore')\n",
    "\n",
    "pd.set_option(\"display.max_rows\", 4)"
   ]
  },
  {
   "cell_type": "code",
   "execution_count": 6,
   "metadata": {},
   "outputs": [
    {
     "name": "stdout",
     "output_type": "stream",
     "text": [
      "no corr: 0.0000\n",
      "positive corr: 0.2575\n",
      "negative corr: -0.2584\n"
     ]
    },
    {
     "data": {
      "text/html": [
       "<div>\n",
       "<style scoped>\n",
       "    .dataframe tbody tr th:only-of-type {\n",
       "        vertical-align: middle;\n",
       "    }\n",
       "\n",
       "    .dataframe tbody tr th {\n",
       "        vertical-align: top;\n",
       "    }\n",
       "\n",
       "    .dataframe thead th {\n",
       "        text-align: right;\n",
       "    }\n",
       "</style>\n",
       "<table border=\"1\" class=\"dataframe\">\n",
       "  <thead>\n",
       "    <tr style=\"text-align: right;\">\n",
       "      <th></th>\n",
       "      <th>S</th>\n",
       "      <th>K</th>\n",
       "      <th>r</th>\n",
       "      <th>q</th>\n",
       "      <th>sigma</th>\n",
       "      <th>T</th>\n",
       "      <th>Call</th>\n",
       "      <th>Put</th>\n",
       "      <th>Forward</th>\n",
       "      <th>S2</th>\n",
       "    </tr>\n",
       "  </thead>\n",
       "  <tbody>\n",
       "    <tr>\n",
       "      <th>0</th>\n",
       "      <td>70</td>\n",
       "      <td>80</td>\n",
       "      <td>0.0</td>\n",
       "      <td>0.05</td>\n",
       "      <td>0.1</td>\n",
       "      <td>0.0</td>\n",
       "      <td>0.000000</td>\n",
       "      <td>10.000000</td>\n",
       "      <td>70.000000</td>\n",
       "      <td>4900</td>\n",
       "    </tr>\n",
       "    <tr>\n",
       "      <th>1</th>\n",
       "      <td>70</td>\n",
       "      <td>80</td>\n",
       "      <td>0.0</td>\n",
       "      <td>0.05</td>\n",
       "      <td>0.1</td>\n",
       "      <td>0.1</td>\n",
       "      <td>0.000003</td>\n",
       "      <td>10.349129</td>\n",
       "      <td>69.650874</td>\n",
       "      <td>4900</td>\n",
       "    </tr>\n",
       "    <tr>\n",
       "      <th>...</th>\n",
       "      <td>...</td>\n",
       "      <td>...</td>\n",
       "      <td>...</td>\n",
       "      <td>...</td>\n",
       "      <td>...</td>\n",
       "      <td>...</td>\n",
       "      <td>...</td>\n",
       "      <td>...</td>\n",
       "      <td>...</td>\n",
       "      <td>...</td>\n",
       "    </tr>\n",
       "    <tr>\n",
       "      <th>309580</th>\n",
       "      <td>130</td>\n",
       "      <td>120</td>\n",
       "      <td>0.1</td>\n",
       "      <td>0.05</td>\n",
       "      <td>0.5</td>\n",
       "      <td>1.9</td>\n",
       "      <td>39.705938</td>\n",
       "      <td>20.722553</td>\n",
       "      <td>142.955651</td>\n",
       "      <td>16900</td>\n",
       "    </tr>\n",
       "    <tr>\n",
       "      <th>309581</th>\n",
       "      <td>130</td>\n",
       "      <td>120</td>\n",
       "      <td>0.1</td>\n",
       "      <td>0.05</td>\n",
       "      <td>0.5</td>\n",
       "      <td>2.0</td>\n",
       "      <td>40.435913</td>\n",
       "      <td>21.054739</td>\n",
       "      <td>143.672219</td>\n",
       "      <td>16900</td>\n",
       "    </tr>\n",
       "  </tbody>\n",
       "</table>\n",
       "<p>309582 rows × 10 columns</p>\n",
       "</div>"
      ],
      "text/plain": [
       "          S    K    r     q  sigma    T       Call        Put     Forward  \\\n",
       "0        70   80  0.0  0.05    0.1  0.0   0.000000  10.000000   70.000000   \n",
       "1        70   80  0.0  0.05    0.1  0.1   0.000003  10.349129   69.650874   \n",
       "...     ...  ...  ...   ...    ...  ...        ...        ...         ...   \n",
       "309580  130  120  0.1  0.05    0.5  1.9  39.705938  20.722553  142.955651   \n",
       "309581  130  120  0.1  0.05    0.5  2.0  40.435913  21.054739  143.672219   \n",
       "\n",
       "           S2  \n",
       "0        4900  \n",
       "1        4900  \n",
       "...       ...  \n",
       "309580  16900  \n",
       "309581  16900  \n",
       "\n",
       "[309582 rows x 10 columns]"
      ]
     },
     "execution_count": 6,
     "metadata": {},
     "output_type": "execute_result"
    }
   ],
   "source": [
    "# 讀取資料\n",
    "df_no = pd.read_csv(\"data_no_corr.csv\")\n",
    "df_positive = pd.read_csv(\"data_positive_corr.csv\")\n",
    "df_negative = pd.read_csv(\"data_negative_corr.csv\")\n",
    "\n",
    "# 檢視三個資料集 K, T 的相關性\n",
    "print( \"no corr: {:.4f}\".format( np.corrcoef(df_no[\"K\"],df_no[\"T\"])[0][1]) )\n",
    "print( \"positive corr: {:.4f}\".format( np.corrcoef(df_positive[\"K\"],df_positive[\"T\"])[0][1]))\n",
    "print( \"negative corr: {:.4f}\".format( np.corrcoef(df_negative[\"K\"],df_negative[\"T\"])[0][1])) \n",
    "df_no #.head()"
   ]
  },
  {
   "cell_type": "markdown",
   "metadata": {},
   "source": [
    "# **1. 試驗一 缺失K、T**\n",
    "\n",
    "$$\n",
    "\\begin{align}\n",
    "   model \\space 0: C, P &= \\beta_{0} + \\beta_{1} K + \\beta_{2} T  \\\\\n",
    "   model \\space 1: C, P &= \\beta_{0} + \\beta_{1} K  \\\\\n",
    "   model \\space 2: C, P &= \\beta_{0} + \\beta_{1} T \n",
    "\\end{align} \n",
    "$$\n",
    "\n",
    "試驗一: 探討缺失K、T的選擇權迴歸模型(模擬資料)\n",
    "\n",
    "若於模型中遺漏到期日T或履約價K ，並且K和T有相關性，其迴歸估計結果將產生偏誤\n",
    "\n",
    "固定S = 100, r = 0.1, σ = 0.3"
   ]
  },
  {
   "cell_type": "markdown",
   "metadata": {},
   "source": [
    "## 以 K,T 正相關樣本為例"
   ]
  },
  {
   "cell_type": "code",
   "execution_count": 8,
   "metadata": {},
   "outputs": [
    {
     "name": "stdout",
     "output_type": "stream",
     "text": [
      "[[1.         0.25899719]\n",
      " [0.25899719 1.        ]]\n"
     ]
    },
    {
     "data": {
      "text/html": [
       "<div>\n",
       "<style scoped>\n",
       "    .dataframe tbody tr th:only-of-type {\n",
       "        vertical-align: middle;\n",
       "    }\n",
       "\n",
       "    .dataframe tbody tr th {\n",
       "        vertical-align: top;\n",
       "    }\n",
       "\n",
       "    .dataframe thead th {\n",
       "        text-align: right;\n",
       "    }\n",
       "</style>\n",
       "<table border=\"1\" class=\"dataframe\">\n",
       "  <thead>\n",
       "    <tr style=\"text-align: right;\">\n",
       "      <th></th>\n",
       "      <th>S</th>\n",
       "      <th>K</th>\n",
       "      <th>r</th>\n",
       "      <th>q</th>\n",
       "      <th>sigma</th>\n",
       "      <th>T</th>\n",
       "      <th>Call</th>\n",
       "      <th>Put</th>\n",
       "      <th>Forward</th>\n",
       "      <th>S2</th>\n",
       "    </tr>\n",
       "  </thead>\n",
       "  <tbody>\n",
       "    <tr>\n",
       "      <th>17044</th>\n",
       "      <td>100</td>\n",
       "      <td>80</td>\n",
       "      <td>0.1</td>\n",
       "      <td>0.05</td>\n",
       "      <td>0.3</td>\n",
       "      <td>0.0</td>\n",
       "      <td>20.000000</td>\n",
       "      <td>0.000000</td>\n",
       "      <td>100.000000</td>\n",
       "      <td>10000</td>\n",
       "    </tr>\n",
       "    <tr>\n",
       "      <th>17045</th>\n",
       "      <td>100</td>\n",
       "      <td>80</td>\n",
       "      <td>0.1</td>\n",
       "      <td>0.05</td>\n",
       "      <td>0.3</td>\n",
       "      <td>0.1</td>\n",
       "      <td>20.319819</td>\n",
       "      <td>0.022558</td>\n",
       "      <td>100.501252</td>\n",
       "      <td>10000</td>\n",
       "    </tr>\n",
       "    <tr>\n",
       "      <th>...</th>\n",
       "      <td>...</td>\n",
       "      <td>...</td>\n",
       "      <td>...</td>\n",
       "      <td>...</td>\n",
       "      <td>...</td>\n",
       "      <td>...</td>\n",
       "      <td>...</td>\n",
       "      <td>...</td>\n",
       "      <td>...</td>\n",
       "      <td>...</td>\n",
       "    </tr>\n",
       "    <tr>\n",
       "      <th>19592</th>\n",
       "      <td>100</td>\n",
       "      <td>120</td>\n",
       "      <td>0.1</td>\n",
       "      <td>0.05</td>\n",
       "      <td>0.3</td>\n",
       "      <td>1.9</td>\n",
       "      <td>11.767333</td>\n",
       "      <td>20.065136</td>\n",
       "      <td>109.965885</td>\n",
       "      <td>10000</td>\n",
       "    </tr>\n",
       "    <tr>\n",
       "      <th>19593</th>\n",
       "      <td>100</td>\n",
       "      <td>120</td>\n",
       "      <td>0.1</td>\n",
       "      <td>0.05</td>\n",
       "      <td>0.3</td>\n",
       "      <td>2.0</td>\n",
       "      <td>12.263937</td>\n",
       "      <td>20.027886</td>\n",
       "      <td>110.517092</td>\n",
       "      <td>10000</td>\n",
       "    </tr>\n",
       "  </tbody>\n",
       "</table>\n",
       "<p>140 rows × 10 columns</p>\n",
       "</div>"
      ],
      "text/plain": [
       "         S    K    r     q  sigma    T       Call        Put     Forward  \\\n",
       "17044  100   80  0.1  0.05    0.3  0.0  20.000000   0.000000  100.000000   \n",
       "17045  100   80  0.1  0.05    0.3  0.1  20.319819   0.022558  100.501252   \n",
       "...    ...  ...  ...   ...    ...  ...        ...        ...         ...   \n",
       "19592  100  120  0.1  0.05    0.3  1.9  11.767333  20.065136  109.965885   \n",
       "19593  100  120  0.1  0.05    0.3  2.0  12.263937  20.027886  110.517092   \n",
       "\n",
       "          S2  \n",
       "17044  10000  \n",
       "17045  10000  \n",
       "...      ...  \n",
       "19592  10000  \n",
       "19593  10000  \n",
       "\n",
       "[140 rows x 10 columns]"
      ]
     },
     "execution_count": 8,
     "metadata": {},
     "output_type": "execute_result"
    },
    {
     "data": {
      "image/png": "[encoded data removed]",
      "text/plain": [
       "<Figure size 300x300 with 1 Axes>"
      ]
     },
     "metadata": {},
     "output_type": "display_data"
    }
   ],
   "source": [
    "test1 = df_positive.query(\"S==100 & r==0.1 & sigma==0.3\")\n",
    "print( np.corrcoef(test1[\"K\"], test1[\"T\"]))\n",
    "plt.figure(figsize=(3, 3))\n",
    "plt.scatter(test1[\"K\"], test1[\"T\"], s=10)\n",
    "plt.xlabel(\"K strike price\")\n",
    "plt.ylabel(\"T time to maturity\")\n",
    "plt.title(\"Positive correlation, S==100 & r==0.1 & sigma==0.3\")\n",
    "test1"
   ]
  },
  {
   "cell_type": "code",
   "execution_count": 9,
   "metadata": {},
   "outputs": [
    {
     "name": "stdout",
     "output_type": "stream",
     "text": [
      "                            OLS Regression Results                            \n",
      "==============================================================================\n",
      "Dep. Variable:                   Call   R-squared:                       0.945\n",
      "Model:                            OLS   Adj. R-squared:                  0.944\n",
      "Method:                 Least Squares   F-statistic:                     1173.\n",
      "Date:                Tue, 05 Mar 2024   Prob (F-statistic):           6.45e-87\n",
      "Time:                        18:07:16   Log-Likelihood:                -261.56\n",
      "No. Observations:                 140   AIC:                             529.1\n",
      "Df Residuals:                     137   BIC:                             538.0\n",
      "Df Model:                           2                                         \n",
      "Covariance Type:            nonrobust                                         \n",
      "==============================================================================\n",
      "                 coef    std err          t      P>|t|      [0.025      0.975]\n",
      "------------------------------------------------------------------------------\n",
      "const         54.2489      1.056     51.359      0.000      52.160      56.338\n",
      "K             -0.4741      0.011    -43.756      0.000      -0.495      -0.453\n",
      "T              7.0631      0.225     31.394      0.000       6.618       7.508\n",
      "==============================================================================\n",
      "Omnibus:                       19.563   Durbin-Watson:                   0.263\n",
      "Prob(Omnibus):                  0.000   Jarque-Bera (JB):               36.102\n",
      "Skew:                          -0.634   Prob(JB):                     1.45e-08\n",
      "Kurtosis:                       5.141   Cond. No.                         795.\n",
      "==============================================================================\n",
      "\n",
      "Notes:\n",
      "[1] Standard Errors assume that the covariance matrix of the errors is correctly specified.\n"
     ]
    }
   ],
   "source": [
    "# 試驗一 - 正確模型0\n",
    "model1_0 = sm.OLS(test1[\"Call\"], sm.add_constant( test1[[\"K\",\"T\"]] )).fit()\n",
    "summary = model1_0.summary()\n",
    "print(summary)"
   ]
  },
  {
   "cell_type": "code",
   "execution_count": 10,
   "metadata": {},
   "outputs": [
    {
     "name": "stdout",
     "output_type": "stream",
     "text": [
      "                            OLS Regression Results                            \n",
      "==============================================================================\n",
      "Dep. Variable:                   Call   R-squared:                       0.548\n",
      "Model:                            OLS   Adj. R-squared:                  0.545\n",
      "Method:                 Least Squares   F-statistic:                     167.2\n",
      "Date:                Tue, 05 Mar 2024   Prob (F-statistic):           1.48e-25\n",
      "Time:                        18:07:16   Log-Likelihood:                -408.80\n",
      "No. Observations:                 140   AIC:                             821.6\n",
      "Df Residuals:                     138   BIC:                             827.5\n",
      "Df Model:                           1                                         \n",
      "Covariance Type:            nonrobust                                         \n",
      "==============================================================================\n",
      "                 coef    std err          t      P>|t|      [0.025      0.975]\n",
      "------------------------------------------------------------------------------\n",
      "const         52.3851      3.008     17.416      0.000      46.438      58.332\n",
      "K             -0.3860      0.030    -12.932      0.000      -0.445      -0.327\n",
      "==============================================================================\n",
      "Omnibus:                       10.573   Durbin-Watson:                   0.683\n",
      "Prob(Omnibus):                  0.005   Jarque-Bera (JB):               11.505\n",
      "Skew:                          -0.701   Prob(JB):                      0.00317\n",
      "Kurtosis:                       2.912   Cond. No.                         794.\n",
      "==============================================================================\n",
      "\n",
      "Notes:\n",
      "[1] Standard Errors assume that the covariance matrix of the errors is correctly specified.\n"
     ]
    }
   ],
   "source": [
    "# 試驗一 - 缺失模型1\n",
    "model1_1 = sm.OLS(test1[\"Call\"], sm.add_constant( test1[[\"K\"]] )).fit()\n",
    "summary = model1_1.summary()\n",
    "print(summary)"
   ]
  },
  {
   "cell_type": "code",
   "execution_count": 11,
   "metadata": {},
   "outputs": [
    {
     "name": "stdout",
     "output_type": "stream",
     "text": [
      "                            OLS Regression Results                            \n",
      "==============================================================================\n",
      "Dep. Variable:                   Call   R-squared:                       0.174\n",
      "Model:                            OLS   Adj. R-squared:                  0.168\n",
      "Method:                 Least Squares   F-statistic:                     29.02\n",
      "Date:                Tue, 05 Mar 2024   Prob (F-statistic):           3.01e-07\n",
      "Time:                        18:07:16   Log-Likelihood:                -451.01\n",
      "No. Observations:                 140   AIC:                             906.0\n",
      "Df Residuals:                     138   BIC:                             911.9\n",
      "Df Model:                           1                                         \n",
      "Covariance Type:            nonrobust                                         \n",
      "==============================================================================\n",
      "                 coef    std err          t      P>|t|      [0.025      0.975]\n",
      "------------------------------------------------------------------------------\n",
      "const          9.3666      0.972      9.637      0.000       7.445      11.289\n",
      "T              4.5134      0.838      5.387      0.000       2.857       6.170\n",
      "==============================================================================\n",
      "Omnibus:                       18.963   Durbin-Watson:                   0.117\n",
      "Prob(Omnibus):                  0.000   Jarque-Bera (JB):                8.539\n",
      "Skew:                           0.393   Prob(JB):                       0.0140\n",
      "Kurtosis:                       2.080   Cond. No.                         3.52\n",
      "==============================================================================\n",
      "\n",
      "Notes:\n",
      "[1] Standard Errors assume that the covariance matrix of the errors is correctly specified.\n"
     ]
    }
   ],
   "source": [
    "# 試驗一 - 缺失模型2\n",
    "model1_2 = sm.OLS(test1[\"Call\"], sm.add_constant( test1[[\"T\"]] )).fit()\n",
    "summary = model1_2.summary()\n",
    "print(summary)"
   ]
  },
  {
   "cell_type": "markdown",
   "metadata": {},
   "source": [
    "## 公式計算Bias\n",
    "\n",
    "利用公式計算缺失模型1裡，T的beta係數的bias，並對照a.的結果\n",
    "\n",
    "$$\n",
    "\\begin{align}\n",
    "   model \\space 0: C, P &= \\beta_{0} + \\beta_{1} K + \\beta_{2} T  \\\\\n",
    "   model \\space 1: C, P &= \\beta_{0} + \\beta_{1} K \\\\\n",
    "   model \\space T :  T &=  \\beta_{0} + \\beta_{1} K\n",
    "\\end{align} \n",
    "$$\n",
    "\n",
    "$$\n",
    "Bias( \\tilde{\\beta_1} ) = \\hat{\\beta_2}   \\tilde{\\delta _1}  \n",
    "$$"
   ]
  },
  {
   "cell_type": "code",
   "execution_count": 12,
   "metadata": {},
   "outputs": [
    {
     "name": "stdout",
     "output_type": "stream",
     "text": [
      "                            OLS Regression Results                            \n",
      "==============================================================================\n",
      "Dep. Variable:                      T   R-squared:                       0.067\n",
      "Model:                            OLS   Adj. R-squared:                  0.060\n",
      "Method:                 Least Squares   F-statistic:                     9.923\n",
      "Date:                Tue, 05 Mar 2024   Prob (F-statistic):            0.00200\n",
      "Time:                        18:07:16   Log-Likelihood:                -126.01\n",
      "No. Observations:                 140   AIC:                             256.0\n",
      "Df Residuals:                     138   BIC:                             261.9\n",
      "Df Model:                           1                                         \n",
      "Covariance Type:            nonrobust                                         \n",
      "==============================================================================\n",
      "                 coef    std err          t      P>|t|      [0.025      0.975]\n",
      "------------------------------------------------------------------------------\n",
      "const         -0.2639      0.399     -0.661      0.510      -1.053       0.525\n",
      "K              0.0125      0.004      3.150      0.002       0.005       0.020\n",
      "==============================================================================\n",
      "Omnibus:                       19.439   Durbin-Watson:                   0.686\n",
      "Prob(Omnibus):                  0.000   Jarque-Bera (JB):                5.590\n",
      "Skew:                           0.047   Prob(JB):                       0.0611\n",
      "Kurtosis:                       2.026   Cond. No.                         794.\n",
      "==============================================================================\n",
      "\n",
      "Notes:\n",
      "[1] Standard Errors assume that the covariance matrix of the errors is correctly specified.\n"
     ]
    }
   ],
   "source": [
    "# 試驗一 b. 找出缺失模型1的bias  缺T\n",
    "model_T = sm.OLS(test1[\"T\"], sm.add_constant( test1[[\"K\"]] )).fit()\n",
    "summary = model_T.summary()\n",
    "print(summary)"
   ]
  },
  {
   "cell_type": "code",
   "execution_count": 13,
   "metadata": {},
   "outputs": [
    {
     "name": "stdout",
     "output_type": "stream",
     "text": [
      "正確模型0 beta K: -0.4740513312156913\n",
      "缺失模型1(缺T) beta K: -0.3859613051554056\n",
      "TK回歸模型 beta K: 0.012471821715389582\n",
      "\n",
      "bias of beta K: 0.08809002606028571\n",
      "bias of beta K, 公式: 0.08809002606028551\n"
     ]
    }
   ],
   "source": [
    "print(\"正確模型0 beta K:\", model1_0.params[\"K\"])\n",
    "print(\"缺失模型1(缺T) beta K:\", model1_1.params[\"K\"])\n",
    "print(\"TK回歸模型 beta K:\", model_T.params[\"K\"])\n",
    "# 用公式算bias\n",
    "print(\"\\nbias of beta K:\",  model1_1.params[\"K\"] - model1_0.params[\"K\"])\n",
    "print(\"bias of beta K, 公式:\", model1_0.params[\"T\"] * model_T.params[\"K\"])"
   ]
  },
  {
   "cell_type": "markdown",
   "metadata": {},
   "source": [
    "# **2. 試驗二 缺失sigma**\n",
    "\n",
    "$$\n",
    "\\begin{align}\n",
    "   model \\space 0: C, P &= \\beta_{0} + \\beta_{1} K + \\beta_{2} T + \\beta_{3} \\sigma  \\\\\n",
    "   model \\space 1: C, P &= \\beta_{0} + \\beta_{1} K + \\beta_{2} T \n",
    "\\end{align} \n",
    "$$\n",
    "\n",
    "試驗二: 探討缺失sigma的選擇權迴歸模型(模擬資料)\n",
    "\n",
    "若於模型中遺漏波動率σ ，σ分別與K、T無相關性，即使K和T有相關性，其對K、T迴歸估計結果無產生偏誤，但在const會有偏誤，且R-squared下降。\n",
    "\n",
    "固定S = 100, r = 0.1"
   ]
  },
  {
   "cell_type": "markdown",
   "metadata": {},
   "source": [
    "## 以 K,T 無相關樣本為例"
   ]
  },
  {
   "cell_type": "code",
   "execution_count": 14,
   "metadata": {},
   "outputs": [
    {
     "data": {
      "text/html": [
       "<div>\n",
       "<style scoped>\n",
       "    .dataframe tbody tr th:only-of-type {\n",
       "        vertical-align: middle;\n",
       "    }\n",
       "\n",
       "    .dataframe tbody tr th {\n",
       "        vertical-align: top;\n",
       "    }\n",
       "\n",
       "    .dataframe thead th {\n",
       "        text-align: right;\n",
       "    }\n",
       "</style>\n",
       "<table border=\"1\" class=\"dataframe\">\n",
       "  <thead>\n",
       "    <tr style=\"text-align: right;\">\n",
       "      <th></th>\n",
       "      <th>S</th>\n",
       "      <th>K</th>\n",
       "      <th>r</th>\n",
       "      <th>q</th>\n",
       "      <th>sigma</th>\n",
       "      <th>T</th>\n",
       "      <th>Call</th>\n",
       "      <th>Put</th>\n",
       "      <th>Forward</th>\n",
       "      <th>S2</th>\n",
       "    </tr>\n",
       "  </thead>\n",
       "  <tbody>\n",
       "    <tr>\n",
       "      <th>145089</th>\n",
       "      <td>100</td>\n",
       "      <td>80</td>\n",
       "      <td>0.1</td>\n",
       "      <td>0.05</td>\n",
       "      <td>0.1</td>\n",
       "      <td>0.0</td>\n",
       "      <td>20.000000</td>\n",
       "      <td>0.000000e+00</td>\n",
       "      <td>100.000000</td>\n",
       "      <td>10000</td>\n",
       "    </tr>\n",
       "    <tr>\n",
       "      <th>145090</th>\n",
       "      <td>100</td>\n",
       "      <td>80</td>\n",
       "      <td>0.1</td>\n",
       "      <td>0.05</td>\n",
       "      <td>0.1</td>\n",
       "      <td>0.1</td>\n",
       "      <td>20.297261</td>\n",
       "      <td>9.947600e-14</td>\n",
       "      <td>100.501252</td>\n",
       "      <td>10000</td>\n",
       "    </tr>\n",
       "    <tr>\n",
       "      <th>...</th>\n",
       "      <td>...</td>\n",
       "      <td>...</td>\n",
       "      <td>...</td>\n",
       "      <td>...</td>\n",
       "      <td>...</td>\n",
       "      <td>...</td>\n",
       "      <td>...</td>\n",
       "      <td>...</td>\n",
       "      <td>...</td>\n",
       "      <td>...</td>\n",
       "    </tr>\n",
       "    <tr>\n",
       "      <th>166696</th>\n",
       "      <td>100</td>\n",
       "      <td>120</td>\n",
       "      <td>0.1</td>\n",
       "      <td>0.05</td>\n",
       "      <td>0.5</td>\n",
       "      <td>1.9</td>\n",
       "      <td>21.684214</td>\n",
       "      <td>2.998202e+01</td>\n",
       "      <td>109.965885</td>\n",
       "      <td>10000</td>\n",
       "    </tr>\n",
       "    <tr>\n",
       "      <th>166697</th>\n",
       "      <td>100</td>\n",
       "      <td>120</td>\n",
       "      <td>0.1</td>\n",
       "      <td>0.05</td>\n",
       "      <td>0.5</td>\n",
       "      <td>2.0</td>\n",
       "      <td>22.362923</td>\n",
       "      <td>3.012687e+01</td>\n",
       "      <td>110.517092</td>\n",
       "      <td>10000</td>\n",
       "    </tr>\n",
       "  </tbody>\n",
       "</table>\n",
       "<p>3969 rows × 10 columns</p>\n",
       "</div>"
      ],
      "text/plain": [
       "          S    K    r     q  sigma    T       Call           Put     Forward  \\\n",
       "145089  100   80  0.1  0.05    0.1  0.0  20.000000  0.000000e+00  100.000000   \n",
       "145090  100   80  0.1  0.05    0.1  0.1  20.297261  9.947600e-14  100.501252   \n",
       "...     ...  ...  ...   ...    ...  ...        ...           ...         ...   \n",
       "166696  100  120  0.1  0.05    0.5  1.9  21.684214  2.998202e+01  109.965885   \n",
       "166697  100  120  0.1  0.05    0.5  2.0  22.362923  3.012687e+01  110.517092   \n",
       "\n",
       "           S2  \n",
       "145089  10000  \n",
       "145090  10000  \n",
       "...       ...  \n",
       "166696  10000  \n",
       "166697  10000  \n",
       "\n",
       "[3969 rows x 10 columns]"
      ]
     },
     "execution_count": 14,
     "metadata": {},
     "output_type": "execute_result"
    }
   ],
   "source": [
    "test2 = df_no.query(\"S==100 & r==0.1\")\n",
    "test2"
   ]
  },
  {
   "cell_type": "code",
   "execution_count": 15,
   "metadata": {},
   "outputs": [
    {
     "name": "stdout",
     "output_type": "stream",
     "text": [
      "                            OLS Regression Results                            \n",
      "==============================================================================\n",
      "Dep. Variable:                   Call   R-squared:                       0.930\n",
      "Model:                            OLS   Adj. R-squared:                  0.929\n",
      "Method:                 Least Squares   F-statistic:                 1.743e+04\n",
      "Date:                Tue, 05 Mar 2024   Prob (F-statistic):               0.00\n",
      "Time:                        18:07:16   Log-Likelihood:                -8839.4\n",
      "No. Observations:                3969   AIC:                         1.769e+04\n",
      "Df Residuals:                    3965   BIC:                         1.771e+04\n",
      "Df Model:                           3                                         \n",
      "Covariance Type:            nonrobust                                         \n",
      "==============================================================================\n",
      "                 coef    std err          t      P>|t|      [0.025      0.975]\n",
      "------------------------------------------------------------------------------\n",
      "const         45.6192      0.298    153.166      0.000      45.035      46.203\n",
      "K             -0.4708      0.003   -170.557      0.000      -0.476      -0.465\n",
      "T              6.8785      0.059    116.888      0.000       6.763       6.994\n",
      "sigma         28.7347      0.294     97.659      0.000      28.158      29.312\n",
      "==============================================================================\n",
      "Omnibus:                      288.601   Durbin-Watson:                   0.357\n",
      "Prob(Omnibus):                  0.000   Jarque-Bera (JB):             1196.213\n",
      "Skew:                          -0.239   Prob(JB):                    1.76e-260\n",
      "Kurtosis:                       5.647   Cond. No.                         954.\n",
      "==============================================================================\n",
      "\n",
      "Notes:\n",
      "[1] Standard Errors assume that the covariance matrix of the errors is correctly specified.\n"
     ]
    }
   ],
   "source": [
    "# 試驗二 - 正確模型0\n",
    "model2_0 = sm.OLS(test2[\"Call\"], sm.add_constant( test2[[\"K\",\"T\",\"sigma\"]] )).fit()\n",
    "summary = model2_0.summary()\n",
    "print(summary)"
   ]
  },
  {
   "cell_type": "code",
   "execution_count": 16,
   "metadata": {},
   "outputs": [
    {
     "name": "stdout",
     "output_type": "stream",
     "text": [
      "                            OLS Regression Results                            \n",
      "==============================================================================\n",
      "Dep. Variable:                   Call   R-squared:                       0.760\n",
      "Model:                            OLS   Adj. R-squared:                  0.760\n",
      "Method:                 Least Squares   F-statistic:                     6279.\n",
      "Date:                Tue, 05 Mar 2024   Prob (F-statistic):               0.00\n",
      "Time:                        18:07:16   Log-Likelihood:                -11271.\n",
      "No. Observations:                3969   AIC:                         2.255e+04\n",
      "Df Residuals:                    3966   BIC:                         2.257e+04\n",
      "Df Model:                           2                                         \n",
      "Covariance Type:            nonrobust                                         \n",
      "==============================================================================\n",
      "                 coef    std err          t      P>|t|      [0.025      0.975]\n",
      "------------------------------------------------------------------------------\n",
      "const         54.2396      0.525    103.340      0.000      53.211      55.269\n",
      "K             -0.4708      0.005    -92.437      0.000      -0.481      -0.461\n",
      "T              6.8785      0.109     63.349      0.000       6.666       7.091\n",
      "==============================================================================\n",
      "Omnibus:                      104.870   Durbin-Watson:                   0.114\n",
      "Prob(Omnibus):                  0.000   Jarque-Bera (JB):               52.418\n",
      "Skew:                          -0.018   Prob(JB):                     4.14e-12\n",
      "Kurtosis:                       2.438   Cond. No.                         806.\n",
      "==============================================================================\n",
      "\n",
      "Notes:\n",
      "[1] Standard Errors assume that the covariance matrix of the errors is correctly specified.\n"
     ]
    }
   ],
   "source": [
    "# 試驗二 - 缺失模型1\n",
    "model2_1 = sm.OLS(test2[\"Call\"], sm.add_constant( test2[[\"K\",\"T\"]] )).fit()\n",
    "summary = model2_1.summary()\n",
    "print(summary)"
   ]
  },
  {
   "cell_type": "markdown",
   "metadata": {},
   "source": [
    "# **3. 試驗三 價性探討**\n",
    "\n",
    "a. 利用無相關性樣本(data_no_corr)，固定S=100、sigma=0.3、r=0.1，並將樣本區分成兩種價性:價內、價外，再分別做試驗一中的三種模型，Y為Call和Put的模型皆須完成 (應產生12個回歸結果)\n",
    "\n",
    "$$\n",
    "\\begin{align}\n",
    "   model \\space 0: C, P &= \\beta_{0} + \\beta_{1} K + \\beta_{2} T  \\\\\n",
    "   model \\space 1: C, P &= \\beta_{0} + \\beta_{1} K  \\\\\n",
    "   model \\space 2: C, P &= \\beta_{0} + \\beta_{1} T \n",
    "\\end{align} \n",
    "$$\n",
    "\n",
    "\n",
    "b. 比較K係數、R2，有什麼差異? 原因為何? (可參考下圖進行解釋)\n",
    "\n",
    "c. 比較T係數，有什麼差異? 代表什麼意義?  (可參考下圖進行解釋，此題較難)"
   ]
  },
  {
   "cell_type": "code",
   "execution_count": 17,
   "metadata": {},
   "outputs": [],
   "source": [
    "# function \n",
    "def model_result(df, Xlist, Y):\n",
    "    result = pd.DataFrame(columns=[\"Y\",\"X\",\"R2\"])\n",
    "    for X in Xlist:\n",
    "        model = sm.OLS(df[Y], sm.add_constant( df[X] )).fit()\n",
    "        result = pd.concat( [result, pd.DataFrame(model.params).T], axis=0 ).reset_index(drop=True)\n",
    "        result[\"Y\"].iloc[-1] = Y\n",
    "        result[\"X\"].iloc[-1] = X\n",
    "        result[\"R2\"].iloc[-1] = model.rsquared\n",
    "    return result"
   ]
  },
  {
   "cell_type": "code",
   "execution_count": 18,
   "metadata": {},
   "outputs": [
    {
     "data": {
      "text/html": [
       "<div>\n",
       "<style scoped>\n",
       "    .dataframe tbody tr th:only-of-type {\n",
       "        vertical-align: middle;\n",
       "    }\n",
       "\n",
       "    .dataframe tbody tr th {\n",
       "        vertical-align: top;\n",
       "    }\n",
       "\n",
       "    .dataframe thead th {\n",
       "        text-align: right;\n",
       "    }\n",
       "</style>\n",
       "<table border=\"1\" class=\"dataframe\">\n",
       "  <thead>\n",
       "    <tr style=\"text-align: right;\">\n",
       "      <th></th>\n",
       "      <th>Y</th>\n",
       "      <th>X</th>\n",
       "      <th>R2</th>\n",
       "      <th>const</th>\n",
       "      <th>K</th>\n",
       "      <th>T</th>\n",
       "    </tr>\n",
       "  </thead>\n",
       "  <tbody>\n",
       "    <tr>\n",
       "      <th>0</th>\n",
       "      <td>Call</td>\n",
       "      <td>[K, T]</td>\n",
       "      <td>0.977348</td>\n",
       "      <td>32.861816</td>\n",
       "      <td>-0.283186</td>\n",
       "      <td>7.264532</td>\n",
       "    </tr>\n",
       "    <tr>\n",
       "      <th>1</th>\n",
       "      <td>Call</td>\n",
       "      <td>[K]</td>\n",
       "      <td>0.112064</td>\n",
       "      <td>40.126348</td>\n",
       "      <td>-0.283186</td>\n",
       "      <td>NaN</td>\n",
       "    </tr>\n",
       "    <tr>\n",
       "      <th>2</th>\n",
       "      <td>Call</td>\n",
       "      <td>[T]</td>\n",
       "      <td>0.865284</td>\n",
       "      <td>1.003387</td>\n",
       "      <td>NaN</td>\n",
       "      <td>7.264532</td>\n",
       "    </tr>\n",
       "  </tbody>\n",
       "</table>\n",
       "</div>"
      ],
      "text/plain": [
       "      Y       X        R2      const         K         T\n",
       "0  Call  [K, T]  0.977348  32.861816 -0.283186  7.264532\n",
       "1  Call     [K]  0.112064  40.126348 -0.283186       NaN\n",
       "2  Call     [T]  0.865284   1.003387       NaN  7.264532"
      ]
     },
     "execution_count": 18,
     "metadata": {},
     "output_type": "execute_result"
    }
   ],
   "source": [
    "# OTM 價外 - Call\n",
    "CallOTM = df_no.query(\"S<K & S==100 & r==0.1 & sigma==0.3\")\n",
    "model_result(CallOTM, [[\"K\",\"T\"], [\"K\"], [\"T\"], ], \"Call\")"
   ]
  },
  {
   "cell_type": "code",
   "execution_count": null,
   "metadata": {},
   "outputs": [],
   "source": [
    "# ITM 價內 - Call\n"
   ]
  },
  {
   "cell_type": "code",
   "execution_count": null,
   "metadata": {},
   "outputs": [],
   "source": [
    "# OTM 價外 - Put\n"
   ]
  },
  {
   "cell_type": "code",
   "execution_count": null,
   "metadata": {},
   "outputs": [],
   "source": [
    "# ITM 價內 - Put\n"
   ]
  },
  {
   "cell_type": "code",
   "execution_count": 20,
   "metadata": {},
   "outputs": [
    {
     "data": {
      "text/plain": [
       "[<matplotlib.lines.Line2D at 0x1968015d520>]"
      ]
     },
     "execution_count": 20,
     "metadata": {},
     "output_type": "execute_result"
    },
    {
     "data": {
      "image/png": "[encoded data removed]",
      "text/plain": [
       "<Figure size 1000x300 with 2 Axes>"
      ]
     },
     "metadata": {},
     "output_type": "display_data"
    }
   ],
   "source": [
    "# b. 比較K係數、R2，有什麼差異? 原因為何? (可參考下圖進行解釋)\n",
    "draw = df_no.query(\"T == 0.1 & S==100 & sigma==0.3 & r==0.1\")\n",
    "fig, ax = plt.subplots(1,2, figsize=(10,3)) \n",
    "ax[0].set_xlabel(\"K\")\n",
    "ax[0].set_ylabel(\"Call Price\")\n",
    "ax[0].set_title(\"Call (T == 0.1 & S==100 & sigma==0.3 & r==0.1)\")\n",
    "ax[0].plot(draw[\"K\"], draw[\"Call\"])\n",
    "\n",
    "ax[1].set_xlabel(\"K\")\n",
    "ax[1].set_ylabel(\"Put Price\")\n",
    "ax[1].set_title(\"Put (T == 0.1 & S==100 & sigma==0.3)\")\n",
    "ax[1].plot(draw[\"K\"], draw[\"Put\"])"
   ]
  },
  {
   "cell_type": "code",
   "execution_count": 21,
   "metadata": {},
   "outputs": [
    {
     "data": {
      "image/png": "[encoded data removed]",
      "text/plain": [
       "<Figure size 1000x400 with 2 Axes>"
      ]
     },
     "metadata": {},
     "output_type": "display_data"
    }
   ],
   "source": [
    "# c. 比較T係數，有什麼差異? 代表什麼意義?\n",
    "filt_str = \"S == 100 & r == 0.1 & sigma == 0.3\" # r、sigma不同，會影響T係數\n",
    "filt = df_no.query(filt_str)\n",
    "fig, ax = plt.subplots(1,2, figsize=(10,4)) \n",
    "\n",
    "for t_value in [0, 0.5, 1, 1.5, 2]:\n",
    "    subset = filt[filt[\"T\"] == t_value]\n",
    "    ax[0].plot(subset[\"K\"], subset[\"Call\"], label=f\"T = {t_value}\")\n",
    "\n",
    "for t_value in [0, 0.5, 1, 1.5, 2]:\n",
    "    subset = filt[df_no[\"T\"] == t_value]\n",
    "    ax[1].plot(subset[\"K\"], subset[\"Put\"], label=f\"T = {t_value}\")\n",
    "\n",
    "ax[0].set_xlabel(\"K\")\n",
    "ax[0].set_ylabel(\"Call\")\n",
    "ax[0].set_title(\"Call:\"+filt_str)\n",
    "ax[0].legend()\n",
    "ax[0].set_ylim(0.01, 30)\n",
    "\n",
    "ax[1].set_xlabel(\"K\")\n",
    "ax[1].set_ylabel(\"Put\")\n",
    "ax[1].set_title(\"Put:\"+filt_str)\n",
    "ax[1].legend()\n",
    "ax[1].set_ylim(0.01, 30)\n",
    "plt.show()"
   ]
  }
 ],
 "metadata": {
  "kernelspec": {
   "display_name": "Python 3",
   "language": "python",
   "name": "python3"
  },
  "language_info": {
   "codemirror_mode": {
    "name": "ipython",
    "version": 3
   },
   "file_extension": ".py",
   "mimetype": "text/x-python",
   "name": "python",
   "nbconvert_exporter": "python",
   "pygments_lexer": "ipython3",
   "version": "3.9.16"
  },
  "orig_nbformat": 4
 },
 "nbformat": 4,
 "nbformat_minor": 2
}
