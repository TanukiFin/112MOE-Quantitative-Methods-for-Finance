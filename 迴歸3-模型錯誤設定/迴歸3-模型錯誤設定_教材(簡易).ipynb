{
 "cells": [
  {
   "cell_type": "code",
   "execution_count": 1,
   "metadata": {},
   "outputs": [],
   "source": [
    "import pandas as pd\n",
    "import numpy as np\n",
    "import statsmodels.api as sm\n",
    "from statsmodels.stats.diagnostic import linear_reset\n",
    "# https://www.statsmodels.org/dev/generated/statsmodels.stats.diagnostic.linear_reset.html\n",
    "import matplotlib.pyplot as plt\n",
    "import warnings\n",
    "warnings.filterwarnings('ignore')\n",
    "\n",
    "pd.set_option(\"display.max_rows\", 4)\n",
    "pd.set_option(\"display.max_columns\", 11)\n",
    "pd.options.display.float_format = '{:.2f}'.format\n",
    "pd.options.display.float_format = '{:.4f}'.format"
   ]
  },
  {
   "cell_type": "code",
   "execution_count": 2,
   "metadata": {},
   "outputs": [],
   "source": [
    "def print_range(df):\n",
    "    print(\"S:\", df[\"S\"].min(), df[\"S\"].max())\n",
    "    print(\"K:\", df[\"K\"].min(), df[\"K\"].max())\n",
    "    print(\"T:\", df[\"T\"].min(), df[\"T\"].max())\n",
    "    print(\"r:\", df[\"r\"].min(), df[\"r\"].max())\n",
    "    print(\"IV:\", df[\"IV\"].min(), df[\"IV\"].max())"
   ]
  },
  {
   "cell_type": "markdown",
   "metadata": {},
   "source": [
    "**迴歸3-模型錯誤設定(Model misspecification)作業**\n",
    "\n",
    "建立2個迴歸模型，model1為C與S簡單迴歸，model2多了S的二次項，畫出散布圖與回歸線圖，並利用RESET檢定檢查兩個模型是否有模型錯誤設定。\n",
    "\n",
    "範例為Put，作業請用Call。\n",
    "\n",
    "* 試驗一: 價內樣本\n",
    "* 試驗一: 價平樣本\n",
    "* 試驗一: 價外樣本\n"
   ]
  },
  {
   "cell_type": "markdown",
   "metadata": {},
   "source": [
    "# **1. 試驗一: 價內**\n"
   ]
  },
  {
   "cell_type": "markdown",
   "metadata": {},
   "source": [
    "## 範例: Put\n",
    "\n",
    "固定K=12,000，篩選出Put價內區間9,000~11,000、T>0.1、r<0.8%的樣本，建立以下兩個模型，畫出散布圖與回歸線圖，並利用RESET檢定檢查兩個模型是否有模型錯誤設定。\n",
    "\n",
    "$$\n",
    "\\begin{align}\n",
    "\n",
    "model \\space 1: \\space C, P &= \\beta_{0} + \\beta_{1} \\space S \\\\\n",
    "\n",
    "model \\space 2: \\space C, P &= \\beta_{0} + \\beta_{1} \\space S  + \\beta_{2} \\space S^2 \n",
    " \n",
    "\\end{align} \n",
    "$$"
   ]
  },
  {
   "cell_type": "code",
   "execution_count": 3,
   "metadata": {},
   "outputs": [
    {
     "name": "stdout",
     "output_type": "stream",
     "text": [
      "S: 8890.03 18034.19\n",
      "K: 12000.0 12000.0\n",
      "T: 0.1013698630136986 0.7479452054794521\n",
      "r: 0.00795 0.00795\n",
      "IV: 0.21672 0.781341\n"
     ]
    },
    {
     "data": {
      "image/png": "[encoded data removed]",
      "text/plain": [
       "<Figure size 500x300 with 1 Axes>"
      ]
     },
     "metadata": {},
     "output_type": "display_data"
    }
   ],
   "source": [
    "# 全部區間: 價內 價平 價外\n",
    "dfput = pd.read_csv(\"TXOPut.csv\")\n",
    "filt = dfput.query(\"K==12000 & T > 0.1 & r < 0.008\") # 價內\n",
    "plt.figure(figsize=(5,3))\n",
    "plt.plot([12000,12000], [filt[\"Put\"].min(),filt[\"Put\"].max()], color=\"royalblue\")\n",
    "plt.text(12200, filt[\"Put\"].max()-1000, \"K=12,000\")\n",
    "plt.scatter(filt[\"S\"], filt[\"Put\"], label=\"Data\", c='gray', s=10)\n",
    "print_range(filt)"
   ]
  },
  {
   "cell_type": "code",
   "execution_count": 4,
   "metadata": {},
   "outputs": [
    {
     "name": "stdout",
     "output_type": "stream",
     "text": [
      "model1 R2: 0.8055\n",
      "model2 R2: 0.8056\n"
     ]
    },
    {
     "data": {
      "text/html": [
       "<div>\n",
       "<style scoped>\n",
       "    .dataframe tbody tr th:only-of-type {\n",
       "        vertical-align: middle;\n",
       "    }\n",
       "\n",
       "    .dataframe tbody tr th {\n",
       "        vertical-align: top;\n",
       "    }\n",
       "\n",
       "    .dataframe thead tr th {\n",
       "        text-align: left;\n",
       "    }\n",
       "</style>\n",
       "<table border=\"1\" class=\"dataframe\">\n",
       "  <thead>\n",
       "    <tr>\n",
       "      <th></th>\n",
       "      <th colspan=\"2\" halign=\"left\">model1</th>\n",
       "      <th colspan=\"2\" halign=\"left\">model2</th>\n",
       "    </tr>\n",
       "    <tr>\n",
       "      <th></th>\n",
       "      <th>coef</th>\n",
       "      <th>p值</th>\n",
       "      <th>coef</th>\n",
       "      <th>p值</th>\n",
       "    </tr>\n",
       "  </thead>\n",
       "  <tbody>\n",
       "    <tr>\n",
       "      <th>const</th>\n",
       "      <td>1.172e+04</td>\n",
       "      <td>0.000</td>\n",
       "      <td>1.301e+04</td>\n",
       "      <td>0.111</td>\n",
       "    </tr>\n",
       "    <tr>\n",
       "      <th>S</th>\n",
       "      <td>-0.9336</td>\n",
       "      <td>0.000</td>\n",
       "      <td>-1.1854</td>\n",
       "      <td>0.456</td>\n",
       "    </tr>\n",
       "    <tr>\n",
       "      <th>S2</th>\n",
       "      <td></td>\n",
       "      <td></td>\n",
       "      <td>1.228e-05</td>\n",
       "      <td>0.874</td>\n",
       "    </tr>\n",
       "  </tbody>\n",
       "</table>\n",
       "</div>"
      ],
      "text/plain": [
       "           model1              model2        \n",
       "             coef      p值        coef      p值\n",
       "const   1.172e+04   0.000   1.301e+04   0.111\n",
       "S         -0.9336   0.000     -1.1854   0.456\n",
       "S2                          1.228e-05   0.874"
      ]
     },
     "execution_count": 4,
     "metadata": {},
     "output_type": "execute_result"
    }
   ],
   "source": [
    "# 試驗一範例: 價內Put\n",
    "dfput = pd.read_csv(\"TXOPut.csv\")\n",
    "filt1 = dfput.query(\"K==12000 & S> 9000 & S<11000 & T > 0.1 & r < 0.008\") # 價內\n",
    "\n",
    "# model 1 X:S,    Y: Put\n",
    "col_list1 = [\"S\"]\n",
    "model1 = sm.OLS(filt1[\"Put\"], sm.add_constant(filt1[col_list1])).fit()\n",
    "\n",
    "# model 2 X:S S2,    Y: Put\n",
    "col_list2 = [\"S\",\"S2\"] \n",
    "model2 = sm.OLS(filt1[\"Put\"], sm.add_constant(filt1[col_list2])).fit()\n",
    "\n",
    "print(\"model1 R2: {:.4f}\".format(model1.rsquared))\n",
    "print(\"model2 R2: {:.4f}\".format(model2.rsquared))\n",
    "\n",
    "# model summary table\n",
    "summary_table = model1.summary().tables[1]\n",
    "summary_table = list(zip(*summary_table.data))\n",
    "df_table1 = pd.DataFrame({ \"coef\": summary_table[1][1:],\n",
    "                          \"p值\": summary_table[4][1:]}, index=[\"const\"]+col_list1)\n",
    "                          \n",
    "summary_table = model2.summary().tables[1]\n",
    "summary_table = list(zip(*summary_table.data))\n",
    "df_table2 = pd.DataFrame({ \"coef\": summary_table[1][1:],\n",
    "                          \"p值\": summary_table[4][1:]}, index=[\"const\"]+col_list2)\n",
    "df_all = pd.concat([df_table1, df_table2], axis=\"columns\", keys=[\"model1\", \"model2\"]).fillna(\"\")\n",
    "df_all"
   ]
  },
  {
   "cell_type": "code",
   "execution_count": 5,
   "metadata": {},
   "outputs": [
    {
     "data": {
      "text/plain": [
       "<Figure size 600x400 with 0 Axes>"
      ]
     },
     "metadata": {},
     "output_type": "display_data"
    },
    {
     "data": {
      "image/png": "[encoded data removed]",
      "text/plain": [
       "<Figure size 600x400 with 1 Axes>"
      ]
     },
     "metadata": {},
     "output_type": "display_data"
    }
   ],
   "source": [
    "# 2D圖 x軸:S, y軸:Put\n",
    "plt.figure(figsize=(6, 4))\n",
    "x = np.linspace(filt1[\"S\"].min(), filt1[\"S\"].max(), 100)\n",
    "dfx = pd.DataFrame([x, x**2, x**3, x**4, x**5], index=[\"S\",\"S2\",\"S3\",\"S4\",\"S5\"]).T\n",
    "y1 = model1.predict(sm.add_constant(dfx[col_list1]))\n",
    "y2 = model2.predict(sm.add_constant(dfx[col_list2]))\n",
    "\n",
    "fig, axes = plt.subplots(nrows=1, ncols=1, figsize=(6, 4))\n",
    "axes.scatter(filt1[\"S\"], filt1[\"Put\"], label=\"Data\", c='gray', s=10)\n",
    "axes.plot(x, y1, \"r\", label=\"model1 Line\")\n",
    "axes.plot(x, y2, \"b\", label=\"model2 Line\")\n",
    "axes.set_xlabel(\"S\")\n",
    "axes.set_ylabel(\"Put\")\n",
    "axes.legend()\n",
    "axes.set_title(\"ITM\")\n",
    "plt.tight_layout()\n",
    "plt.show()"
   ]
  },
  {
   "cell_type": "code",
   "execution_count": 6,
   "metadata": {},
   "outputs": [
    {
     "name": "stdout",
     "output_type": "stream",
     "text": [
      "model1 不存在模型設定錯誤, RESET p-value:  0.42134256239829815\n",
      "model2 不存在模型設定錯誤, RESET p-value:  0.11999920646505946\n"
     ]
    }
   ],
   "source": [
    "# RESET檢定\n",
    "reset1 = linear_reset(model1, power=3, test_type='fitted',use_f=bool,cov_type='nonrobust',cov_kwargs=None)\n",
    "if reset1.pvalue < 0.05:\n",
    "    print(\"model1 存在模型設定錯誤, RESET p-value: \", reset1.pvalue)\n",
    "else:\n",
    "    print(\"model1 不存在模型設定錯誤, RESET p-value: \", reset1.pvalue)\n",
    "reset2 = linear_reset(model2, power=3, test_type='fitted',use_f=bool,cov_type='nonrobust',cov_kwargs=None)\n",
    "if reset2.pvalue < 0.05:\n",
    "    print(\"model2 存在模型設定錯誤, RESET p-value: \", reset2.pvalue)\n",
    "else:\n",
    "    print(\"model2 不存在模型設定錯誤, RESET p-value: \", reset2.pvalue)"
   ]
  },
  {
   "cell_type": "markdown",
   "metadata": {},
   "source": [
    "## Call\n",
    "\n",
    "固定K=13,000，篩選出Call價內區間14,000~16,000、T>0.1、r<0.8%的樣本，建立以下兩個模型，畫出散布圖與回歸線圖，並利用RESET檢定檢查兩個模型是否有模型錯誤設定。\n",
    "\n",
    "$$\n",
    "\\begin{align}\n",
    "\n",
    "model \\space 1: \\space C, P &= \\beta_{0} + \\beta_{1} \\space S \\\\\n",
    "\n",
    "model \\space 2: \\space C, P &= \\beta_{0} + \\beta_{1} \\space S  + \\beta_{2} \\space S^2 \n",
    " \n",
    "\\end{align} \n",
    "$$"
   ]
  },
  {
   "cell_type": "code",
   "execution_count": 7,
   "metadata": {},
   "outputs": [
    {
     "name": "stdout",
     "output_type": "stream",
     "text": [
      "S: 8890.03 18526.35\n",
      "K: 13000.0 13000.0\n",
      "T: 0.1013698630136986 0.7479452054794521\n",
      "r: 0.00795 0.00795\n",
      "IV: 0.000885 0.456325\n"
     ]
    },
    {
     "data": {
      "image/png": "[encoded data removed]",
      "text/plain": [
       "<Figure size 500x300 with 1 Axes>"
      ]
     },
     "metadata": {},
     "output_type": "display_data"
    }
   ],
   "source": [
    "# 全部區間: 價內 價平 價外\n",
    "dfcall = pd.read_csv(\"TXOCall.csv\")\n",
    "filt = dfcall.query(\"K==13000 & T > 0.1 & T > 0.1 & r < 0.008\") # 全部區間\n",
    "plt.figure(figsize=(5,3))\n",
    "plt.plot([13000,13000], [filt[\"Call\"].min(),filt[\"Call\"].max()], color=\"royalblue\")\n",
    "plt.text(13200, filt[\"Call\"].max()-1000, \"K=13,000\")\n",
    "plt.scatter(filt[\"S\"], filt[\"Call\"], label=\"Data\", c='gray', s=10)\n",
    "print_range(filt)"
   ]
  },
  {
   "cell_type": "code",
   "execution_count": 8,
   "metadata": {},
   "outputs": [],
   "source": [
    "# 試驗一: 價內Call\n"
   ]
  },
  {
   "cell_type": "code",
   "execution_count": 9,
   "metadata": {},
   "outputs": [],
   "source": [
    "# 2D圖 x軸:S, y軸:Call\n"
   ]
  },
  {
   "cell_type": "code",
   "execution_count": 10,
   "metadata": {},
   "outputs": [],
   "source": [
    "# RESET檢定\n"
   ]
  },
  {
   "cell_type": "markdown",
   "metadata": {},
   "source": [
    "# **2. 試驗二: 價平**"
   ]
  },
  {
   "cell_type": "markdown",
   "metadata": {},
   "source": [
    "## Call\n",
    "\n",
    "固定K=13,000，篩選出Call價平區間12,000~14,000、T>0.1、r<0.8%的樣本，建立以下兩個模型，畫出散布圖與回歸線圖，並利用RESET檢定檢查兩個模型是否有模型錯誤設定。\n",
    "\n",
    "$$\n",
    "\\begin{align}\n",
    "\n",
    "model \\space 1: \\space C, P &= \\beta_{0} + \\beta_{1} \\space S \\\\\n",
    "\n",
    "model \\space 2: \\space C, P &= \\beta_{0} + \\beta_{1} \\space S  + \\beta_{2} \\space S^2 \n",
    " \n",
    "\\end{align} \n",
    "$$"
   ]
  },
  {
   "cell_type": "code",
   "execution_count": 11,
   "metadata": {},
   "outputs": [],
   "source": [
    "# 試驗二: 價平Call\n"
   ]
  },
  {
   "cell_type": "code",
   "execution_count": 12,
   "metadata": {},
   "outputs": [],
   "source": [
    "# 2D圖 x軸:S, y軸:Call\n"
   ]
  },
  {
   "cell_type": "code",
   "execution_count": 13,
   "metadata": {},
   "outputs": [],
   "source": [
    "# RESET檢定\n"
   ]
  },
  {
   "cell_type": "markdown",
   "metadata": {},
   "source": [
    "# **3. 試驗三: 價外**"
   ]
  },
  {
   "cell_type": "markdown",
   "metadata": {},
   "source": [
    "## Call\n",
    "\n",
    "固定K=13,000，篩選出Call價外區間10,000~12,000、T>0.1、r<0.8%的樣本，建立以下兩個模型，畫出散布圖與回歸線圖，並利用RESET檢定檢查兩個模型是否有模型錯誤設定。\n",
    "\n",
    "$$\n",
    "\\begin{align}\n",
    "\n",
    "model \\space 1: \\space C, P &= \\beta_{0} + \\beta_{1} \\space S \\\\\n",
    "\n",
    "model \\space 2: \\space C, P &= \\beta_{0} + \\beta_{1} \\space S  + \\beta_{2} \\space S^2 \n",
    " \n",
    "\\end{align} \n",
    "$$"
   ]
  },
  {
   "cell_type": "code",
   "execution_count": 14,
   "metadata": {},
   "outputs": [],
   "source": [
    "# 試驗三: 價外Call\n"
   ]
  },
  {
   "cell_type": "code",
   "execution_count": 15,
   "metadata": {},
   "outputs": [],
   "source": [
    "# 2D圖 x軸:S, y軸:Call\n"
   ]
  },
  {
   "cell_type": "code",
   "execution_count": 16,
   "metadata": {},
   "outputs": [],
   "source": [
    "# RESET檢定\n"
   ]
  }
 ],
 "metadata": {
  "kernelspec": {
   "display_name": "Python 3",
   "language": "python",
   "name": "python3"
  },
  "language_info": {
   "codemirror_mode": {
    "name": "ipython",
    "version": 3
   },
   "file_extension": ".py",
   "mimetype": "text/x-python",
   "name": "python",
   "nbconvert_exporter": "python",
   "pygments_lexer": "ipython3",
   "version": "3.9.16"
  },
  "orig_nbformat": 4
 },
 "nbformat": 4,
 "nbformat_minor": 2
}
